{
 "cells": [
  {
   "cell_type": "code",
   "execution_count": 3,
   "metadata": {},
   "outputs": [],
   "source": [
    "import pandas as pd\n",
    "import json"
   ]
  },
  {
   "cell_type": "code",
   "execution_count": 4,
   "metadata": {},
   "outputs": [],
   "source": [
    "with open(\"dados/QuebraLinha_Palmeiras_x_Bragantino.json\") as f:\n",
    "    data = json.load(f)\n",
    "\n",
    "rupturas_pal = (data[\"time\"][\"1\"][\"rupturas\"])\n",
    "rupturas_red = (data[\"time\"][\"5\"][\"rupturas\"])\n"
   ]
  },
  {
   "cell_type": "code",
   "execution_count": 5,
   "metadata": {},
   "outputs": [
    {
     "name": "stdout",
     "output_type": "stream",
     "text": [
      "{'inicio_ruptura': '00:04:56', 'instante_ruptura': '00:04:57', 'numero_jogador_ruptura': 6, 'nome_jogador_ruptura': 'Vanderlan', 'foi_acompanhado_adversario': True, 'numero_jogador_acompanhou': 11, 'nome_jogador_acompanhou': 'Helinho', 'numeros_jogadores_defesa': [11, 34, 4], 'nomes_jogadores_defesa': ['Helinho', 'J. Hurtado', 'Natan'], 'quantidade_jogadores_defesa': 3, 'numero_jogador_posse_bola': 15, 'nome_jogador_posse_bola': 'G. Gomez', 'jogador_recebeu_bola': True, 'tempo_ate_receber_bola': 4, 'desfecho': 'ForÃ§ou a saÃ\\xadda de bola adversÃ¡ria', 'zona_defesa': 'Zona 2'}\n",
      "{'inicio_ruptura': '00:10:12', 'instante_ruptura': '00:10:12', 'numero_jogador_ruptura': 10, 'nome_jogador_ruptura': 'Rony', 'foi_acompanhado_adversario': True, 'numero_jogador_acompanhou': 7, 'nome_jogador_acompanhou': 'Eric Ramires', 'numeros_jogadores_defesa': [4, 7], 'nomes_jogadores_defesa': ['Natan', 'Eric Ramires'], 'quantidade_jogadores_defesa': 2, 'numero_jogador_posse_bola': 23, 'nome_jogador_posse_bola': 'R. Veiga', 'jogador_recebeu_bola': True, 'tempo_ate_receber_bola': 3, 'desfecho': 'Passe nÃ£o concluÃ\\xaddo', 'zona_defesa': 'Zona 1 - B'}\n",
      "{'inicio_ruptura': '00:15:01', 'instante_ruptura': '00:15:02', 'numero_jogador_ruptura': 23, 'nome_jogador_ruptura': 'R. Veiga', 'foi_acompanhado_adversario': True, 'numero_jogador_acompanhou': 7, 'nome_jogador_acompanhou': 'Eric Ramires', 'numeros_jogadores_defesa': [7, 17], 'nomes_jogadores_defesa': ['Eric Ramires', 'B. Goncalves'], 'quantidade_jogadores_defesa': 2, 'numero_jogador_posse_bola': 14, 'nome_jogador_posse_bola': 'Artur', 'jogador_recebeu_bola': True, 'tempo_ate_receber_bola': 4, 'desfecho': 'Passou a bola', 'zona_defesa': 'Zona 1 - B'}\n",
      "{'inicio_ruptura': '00:51:00', 'instante_ruptura': '00:51:02', 'numero_jogador_ruptura': 10, 'nome_jogador_ruptura': 'Rony', 'foi_acompanhado_adversario': True, 'numero_jogador_acompanhou': 26, 'nome_jogador_acompanhou': 'E. Santos', 'numeros_jogadores_defesa': [26, 29], 'nomes_jogadores_defesa': ['E. Santos', 'Juninho Capixaba'], 'quantidade_jogadores_defesa': 2, 'numero_jogador_posse_bola': 23, 'nome_jogador_posse_bola': 'R. Veiga', 'jogador_recebeu_bola': True, 'tempo_ate_receber_bola': 2, 'desfecho': 'Passou a bola', 'zona_defesa': 'Zona 2'}\n",
      "{'inicio_ruptura': '00:52:27', 'instante_ruptura': '00:52:28', 'numero_jogador_ruptura': 12, 'nome_jogador_ruptura': 'Mayke', 'foi_acompanhado_adversario': True, 'numero_jogador_acompanhou': 29, 'nome_jogador_acompanhou': 'Juninho Capixaba ', 'numeros_jogadores_defesa': [29, 17], 'nomes_jogadores_defesa': ['Juninho Capixaba', 'B. Goncalves'], 'quantidade_jogadores_defesa': 2, 'numero_jogador_posse_bola': 14, 'nome_jogador_posse_bola': 'Artur', 'jogador_recebeu_bola': True, 'tempo_ate_receber_bola': 4, 'desfecho': 'Passou a bola', 'zona_defesa': 'Zona 2'}\n",
      "{'inicio_ruptura': '00:52:55', 'instante_ruptura': '00:52:57', 'numero_jogador_ruptura': 6, 'nome_jogador_ruptura': 'Vanderlan', 'foi_acompanhado_adversario': True, 'numero_jogador_acompanhou': 34, 'nome_jogador_acompanhou': 'J. Hurtado', 'numeros_jogadores_defesa': [11, 34], 'nomes_jogadores_defesa': ['Helinho', 'J. Hurtado'], 'quantidade_jogadores_defesa': 2, 'numero_jogador_posse_bola': 7, 'nome_jogador_posse_bola': 'Dudu', 'jogador_recebeu_bola': True, 'tempo_ate_receber_bola': 2, 'desfecho': 'Foi desarmado', 'zona_defesa': 'Zona 1 - B'}\n",
      "{'inicio_ruptura': '01:32:36', 'instante_ruptura': '01:32:37', 'numero_jogador_ruptura': 27, 'nome_jogador_ruptura': 'Richard Rios', 'foi_acompanhado_adversario': True, 'numero_jogador_acompanhou': 26, 'nome_jogador_acompanhou': 'E. Santos', 'numeros_jogadores_defesa': [28, 29, 26], 'nomes_jogadores_defesa': ['Vitor Hugo', 'Juninho Capixaba', 'E. Santos'], 'quantidade_jogadores_defesa': 3, 'numero_jogador_posse_bola': 11, 'nome_jogador_posse_bola': 'Tabata', 'jogador_recebeu_bola': False, 'tempo_ate_receber_bola': None, 'desfecho': 'NÃ£o recebeu a bola', 'zona_defesa': 'Zona 1 - B'}\n"
     ]
    }
   ],
   "source": [
    "for ruptura in rupturas_pal:\n",
    "    print(ruptura)"
   ]
  },
  {
   "cell_type": "code",
   "execution_count": 6,
   "metadata": {},
   "outputs": [],
   "source": [
    "dic_rupturas_pal = {} \n",
    "zonas_ataque_pal = {}\n",
    "\n",
    "for ruptura in rupturas_pal:\n",
    "    if ruptura[\"zona_defesa\"] not in zonas_ataque_pal:\n",
    "        zonas_ataque_pal[ruptura[\"zona_defesa\"]] = 1\n",
    "    else:\n",
    "        zonas_ataque_pal[ruptura[\"zona_defesa\"]] += 1\n",
    "        \n",
    "    if ruptura[\"nome_jogador_ruptura\"] not in dic_rupturas_pal:\n",
    "        dic_rupturas_pal[ruptura[\"nome_jogador_ruptura\"]] = {\"tempo_ruptura\":[ruptura[\"instante_ruptura\"]],\"jogador_posse_de_bola\":[ruptura[\"nome_jogador_posse_bola\"]],\"desfecho\": [ruptura[\"desfecho\"]],\"qntd_rupturas\":1, \"zona\":[ruptura[\"zona_defesa\"]], \"time\":\"Palmeiras\" }\n",
    "\n",
    "    else:\n",
    "        dic_rupturas_pal[ruptura[\"nome_jogador_ruptura\"]][\"tempo_ruptura\"].append(ruptura[\"instante_ruptura\"])\n",
    "        dic_rupturas_pal[ruptura[\"nome_jogador_ruptura\"]][\"desfecho\"].append(ruptura[\"desfecho\"])\n",
    "        dic_rupturas_pal[ruptura[\"nome_jogador_ruptura\"]][\"zona\"].append(ruptura[\"zona_defesa\"]) \n",
    "        dic_rupturas_pal[ruptura[\"nome_jogador_ruptura\"]][\"jogador_posse_de_bola\"].append(ruptura[\"nome_jogador_posse_bola\"]) \n",
    "        dic_rupturas_pal[ruptura[\"nome_jogador_ruptura\"]][\"qntd_rupturas\"] += 1\n"
   ]
  },
  {
   "cell_type": "code",
   "execution_count": 7,
   "metadata": {},
   "outputs": [
    {
     "data": {
      "text/plain": [
       "{'Zona 2': 3, 'Zona 1 - B': 4}"
      ]
     },
     "execution_count": 7,
     "metadata": {},
     "output_type": "execute_result"
    }
   ],
   "source": [
    "zonas_ataque_pal"
   ]
  },
  {
   "cell_type": "code",
   "execution_count": 8,
   "metadata": {},
   "outputs": [
    {
     "data": {
      "text/html": [
       "<div>\n",
       "<style scoped>\n",
       "    .dataframe tbody tr th:only-of-type {\n",
       "        vertical-align: middle;\n",
       "    }\n",
       "\n",
       "    .dataframe tbody tr th {\n",
       "        vertical-align: top;\n",
       "    }\n",
       "\n",
       "    .dataframe thead th {\n",
       "        text-align: right;\n",
       "    }\n",
       "</style>\n",
       "<table border=\"1\" class=\"dataframe\">\n",
       "  <thead>\n",
       "    <tr style=\"text-align: right;\">\n",
       "      <th></th>\n",
       "      <th>tempo_ruptura</th>\n",
       "      <th>jogador_posse_de_bola</th>\n",
       "      <th>desfecho</th>\n",
       "      <th>qntd_rupturas</th>\n",
       "      <th>zona</th>\n",
       "      <th>time</th>\n",
       "    </tr>\n",
       "  </thead>\n",
       "  <tbody>\n",
       "    <tr>\n",
       "      <th>Vanderlan</th>\n",
       "      <td>[00:04:57, 00:52:57]</td>\n",
       "      <td>[G. Gomez, Dudu]</td>\n",
       "      <td>[ForÃ§ou a saÃ­da de bola adversÃ¡ria, Foi des...</td>\n",
       "      <td>2</td>\n",
       "      <td>[Zona 2, Zona 1 - B]</td>\n",
       "      <td>Palmeiras</td>\n",
       "    </tr>\n",
       "    <tr>\n",
       "      <th>Rony</th>\n",
       "      <td>[00:10:12, 00:51:02]</td>\n",
       "      <td>[R. Veiga, R. Veiga]</td>\n",
       "      <td>[Passe nÃ£o concluÃ­do, Passou a bola]</td>\n",
       "      <td>2</td>\n",
       "      <td>[Zona 1 - B, Zona 2]</td>\n",
       "      <td>Palmeiras</td>\n",
       "    </tr>\n",
       "    <tr>\n",
       "      <th>R. Veiga</th>\n",
       "      <td>[00:15:02]</td>\n",
       "      <td>[Artur]</td>\n",
       "      <td>[Passou a bola]</td>\n",
       "      <td>1</td>\n",
       "      <td>[Zona 1 - B]</td>\n",
       "      <td>Palmeiras</td>\n",
       "    </tr>\n",
       "    <tr>\n",
       "      <th>Mayke</th>\n",
       "      <td>[00:52:28]</td>\n",
       "      <td>[Artur]</td>\n",
       "      <td>[Passou a bola]</td>\n",
       "      <td>1</td>\n",
       "      <td>[Zona 2]</td>\n",
       "      <td>Palmeiras</td>\n",
       "    </tr>\n",
       "    <tr>\n",
       "      <th>Richard Rios</th>\n",
       "      <td>[01:32:37]</td>\n",
       "      <td>[Tabata]</td>\n",
       "      <td>[NÃ£o recebeu a bola]</td>\n",
       "      <td>1</td>\n",
       "      <td>[Zona 1 - B]</td>\n",
       "      <td>Palmeiras</td>\n",
       "    </tr>\n",
       "  </tbody>\n",
       "</table>\n",
       "</div>"
      ],
      "text/plain": [
       "                     tempo_ruptura jogador_posse_de_bola  \\\n",
       "Vanderlan     [00:04:57, 00:52:57]      [G. Gomez, Dudu]   \n",
       "Rony          [00:10:12, 00:51:02]  [R. Veiga, R. Veiga]   \n",
       "R. Veiga                [00:15:02]               [Artur]   \n",
       "Mayke                   [00:52:28]               [Artur]   \n",
       "Richard Rios            [01:32:37]              [Tabata]   \n",
       "\n",
       "                                                       desfecho qntd_rupturas  \\\n",
       "Vanderlan     [ForÃ§ou a saÃ­da de bola adversÃ¡ria, Foi des...             2   \n",
       "Rony                     [Passe nÃ£o concluÃ­do, Passou a bola]             2   \n",
       "R. Veiga                                        [Passou a bola]             1   \n",
       "Mayke                                           [Passou a bola]             1   \n",
       "Richard Rios                              [NÃ£o recebeu a bola]             1   \n",
       "\n",
       "                              zona       time  \n",
       "Vanderlan     [Zona 2, Zona 1 - B]  Palmeiras  \n",
       "Rony          [Zona 1 - B, Zona 2]  Palmeiras  \n",
       "R. Veiga              [Zona 1 - B]  Palmeiras  \n",
       "Mayke                     [Zona 2]  Palmeiras  \n",
       "Richard Rios          [Zona 1 - B]  Palmeiras  "
      ]
     },
     "execution_count": 8,
     "metadata": {},
     "output_type": "execute_result"
    }
   ],
   "source": [
    "DF_PALMEIRAS = pd.DataFrame(dic_rupturas_pal)\n",
    "DF_PALMEIRAS = DF_PALMEIRAS.transpose()\n",
    "DF_PALMEIRAS\n"
   ]
  },
  {
   "cell_type": "markdown",
   "metadata": {},
   "source": []
  },
  {
   "cell_type": "code",
   "execution_count": 9,
   "metadata": {},
   "outputs": [
    {
     "name": "stdout",
     "output_type": "stream",
     "text": [
      "{'inicio_ruptura': '00:07:04', 'instante_ruptura': '00:07:06', 'numero_jogador_ruptura': 11, 'nome_jogador_ruptura': 'Helinho', 'foi_acompanhado_adversario': True, 'numero_jogador_acompanhou': 6, 'nome_jogador_acompanhou': 'Vanderlan', 'numeros_jogadores_defesa': [6, 15], 'nomes_jogadores_defesa': ['Vanderlan', 'G. Gomez'], 'quantidade_jogadores_defesa': 2, 'numero_jogador_posse_bola': 34, 'nome_jogador_posse_bola': 'J. Hurtado', 'jogador_recebeu_bola': True, 'tempo_ate_receber_bola': 3, 'desfecho': 'Foi derrubado com a bola', 'zona_defesa': 'Zona 2'}\n",
      "{'inicio_ruptura': '00:08:32', 'instante_ruptura': '00:08:32', 'numero_jogador_ruptura': 34, 'nome_jogador_ruptura': 'J. Hurtado', 'foi_acompanhado_adversario': False, 'numero_jogador_acompanhou': None, 'nome_jogador_acompanhou': None, 'numeros_jogadores_defesa': [7, 25, 6], 'nomes_jogadores_defesa': ['Dudu', 'G. Menino', 'Vanderlan'], 'quantidade_jogadores_defesa': 3, 'numero_jogador_posse_bola': 26, 'nome_jogador_posse_bola': 'E. Santos', 'jogador_recebeu_bola': True, 'tempo_ate_receber_bola': 2, 'desfecho': 'ForÃ§ou a saÃ\\xadda de bola adversÃ¡ria', 'zona_defesa': 'Zona 2'}\n",
      "{'inicio_ruptura': '00:21:22', 'instante_ruptura': '00:21:25', 'numero_jogador_ruptura': 8, 'nome_jogador_ruptura': 'L. Evangelista', 'foi_acompanhado_adversario': True, 'numero_jogador_acompanhou': 25, 'nome_jogador_acompanhou': 'G. Menino', 'numeros_jogadores_defesa': [25, 6], 'nomes_jogadores_defesa': ['G. Menino', 'Vanderlan'], 'quantidade_jogadores_defesa': 2, 'numero_jogador_posse_bola': 11, 'nome_jogador_posse_bola': 'Helinho', 'jogador_recebeu_bola': True, 'tempo_ate_receber_bola': 3, 'desfecho': 'ForÃ§ou a saÃ\\xadda de bola adversÃ¡ria', 'zona_defesa': 'Zona 1 - B'}\n",
      "{'inicio_ruptura': '00:37:42', 'instante_ruptura': '00:37:44', 'numero_jogador_ruptura': 17, 'nome_jogador_ruptura': 'B. Goncalves ', 'foi_acompanhado_adversario': True, 'numero_jogador_acompanhou': 35, 'nome_jogador_acompanhou': 'Fabinho', 'numeros_jogadores_defesa': [12, 23, 35], 'nomes_jogadores_defesa': ['Mayke', 'R. Veiga', 'Fabinho'], 'quantidade_jogadores_defesa': 3, 'numero_jogador_posse_bola': 29, 'nome_jogador_posse_bola': 'Juninho Capixaba ', 'jogador_recebeu_bola': True, 'tempo_ate_receber_bola': 2, 'desfecho': 'Foi desarmado', 'zona_defesa': 'Zona 1 - A'}\n"
     ]
    }
   ],
   "source": [
    "for ruptura in rupturas_red:\n",
    "    print(ruptura)"
   ]
  },
  {
   "cell_type": "code",
   "execution_count": 10,
   "metadata": {},
   "outputs": [
    {
     "data": {
      "text/plain": [
       "{'Helinho': {'tempo_ruptura': ['00:07:06'],\n",
       "  'jogador_posse_de_bola': ['J. Hurtado'],\n",
       "  'desfecho': ['Foi derrubado com a bola'],\n",
       "  'qntd_rupturas': 1,\n",
       "  'zona': ['Zona 2'],\n",
       "  'time': 'Bragantino'},\n",
       " 'J. Hurtado': {'tempo_ruptura': ['00:08:32'],\n",
       "  'jogador_posse_de_bola': ['E. Santos'],\n",
       "  'desfecho': ['ForÃ§ou a saÃ\\xadda de bola adversÃ¡ria'],\n",
       "  'qntd_rupturas': 1,\n",
       "  'zona': ['Zona 2'],\n",
       "  'time': 'Bragantino'},\n",
       " 'L. Evangelista': {'tempo_ruptura': ['00:21:25'],\n",
       "  'jogador_posse_de_bola': ['Helinho'],\n",
       "  'desfecho': ['ForÃ§ou a saÃ\\xadda de bola adversÃ¡ria'],\n",
       "  'qntd_rupturas': 1,\n",
       "  'zona': ['Zona 1 - B'],\n",
       "  'time': 'Bragantino'},\n",
       " 'B. Goncalves ': {'tempo_ruptura': ['00:37:44'],\n",
       "  'jogador_posse_de_bola': ['Juninho Capixaba '],\n",
       "  'desfecho': ['Foi desarmado'],\n",
       "  'qntd_rupturas': 1,\n",
       "  'zona': ['Zona 1 - A'],\n",
       "  'time': 'Bragantino'}}"
      ]
     },
     "execution_count": 10,
     "metadata": {},
     "output_type": "execute_result"
    }
   ],
   "source": [
    "dic_rupturas_red = {} \n",
    "zonas_ataque_red = {}\n",
    "\n",
    "for ruptura in rupturas_red:\n",
    "    if ruptura[\"zona_defesa\"] not in zonas_ataque_red:\n",
    "        zonas_ataque_red[ruptura[\"zona_defesa\"]] = 1\n",
    "    else:\n",
    "        zonas_ataque_red[ruptura[\"zona_defesa\"]] += 1\n",
    "\n",
    "    if ruptura[\"nome_jogador_ruptura\"] not in dic_rupturas_red:\n",
    "        dic_rupturas_red[ruptura[\"nome_jogador_ruptura\"]] = {\"tempo_ruptura\":[ruptura[\"instante_ruptura\"]],\"jogador_posse_de_bola\":[ruptura[\"nome_jogador_posse_bola\"]],\"desfecho\": [ruptura[\"desfecho\"]],\"qntd_rupturas\":1, \"zona\":[ruptura[\"zona_defesa\"]], \"time\":\"Bragantino\" }\n",
    "    else:\n",
    "        dic_rupturas_red[ruptura[\"nome_jogador_ruptura\"]][\"tempo_ruptura\"].append(ruptura[\"instante_ruptura\"])\n",
    "        dic_rupturas_red[ruptura[\"nome_jogador_ruptura\"]][\"desfecho\"].append(ruptura[\"desfecho\"])\n",
    "        dic_rupturas_red[ruptura[\"nome_jogador_ruptura\"]][\"zona\"].append(ruptura[\"zona_defesa\"]) \n",
    "        dic_rupturas_red[ruptura[\"nome_jogador_ruptura\"]][\"jogador_posse_de_bola\"].append(ruptura[\"nome_jogador_posse_bola\"]) \n",
    "        dic_rupturas_red[ruptura[\"nome_jogador_ruptura\"]][\"qntd_rupturas\"] += 1\n",
    "    \n",
    "dic_rupturas_red"
   ]
  },
  {
   "cell_type": "code",
   "execution_count": 11,
   "metadata": {},
   "outputs": [
    {
     "data": {
      "text/plain": [
       "{'Zona 2': 2, 'Zona 1 - B': 1, 'Zona 1 - A': 1}"
      ]
     },
     "execution_count": 11,
     "metadata": {},
     "output_type": "execute_result"
    }
   ],
   "source": [
    "zonas_ataque_red"
   ]
  },
  {
   "cell_type": "code",
   "execution_count": 12,
   "metadata": {},
   "outputs": [
    {
     "data": {
      "text/html": [
       "<div>\n",
       "<style scoped>\n",
       "    .dataframe tbody tr th:only-of-type {\n",
       "        vertical-align: middle;\n",
       "    }\n",
       "\n",
       "    .dataframe tbody tr th {\n",
       "        vertical-align: top;\n",
       "    }\n",
       "\n",
       "    .dataframe thead th {\n",
       "        text-align: right;\n",
       "    }\n",
       "</style>\n",
       "<table border=\"1\" class=\"dataframe\">\n",
       "  <thead>\n",
       "    <tr style=\"text-align: right;\">\n",
       "      <th></th>\n",
       "      <th>tempo_ruptura</th>\n",
       "      <th>jogador_posse_de_bola</th>\n",
       "      <th>desfecho</th>\n",
       "      <th>qntd_rupturas</th>\n",
       "      <th>zona</th>\n",
       "      <th>time</th>\n",
       "    </tr>\n",
       "  </thead>\n",
       "  <tbody>\n",
       "    <tr>\n",
       "      <th>Helinho</th>\n",
       "      <td>[00:07:06]</td>\n",
       "      <td>[J. Hurtado]</td>\n",
       "      <td>[Foi derrubado com a bola]</td>\n",
       "      <td>1</td>\n",
       "      <td>[Zona 2]</td>\n",
       "      <td>Bragantino</td>\n",
       "    </tr>\n",
       "    <tr>\n",
       "      <th>J. Hurtado</th>\n",
       "      <td>[00:08:32]</td>\n",
       "      <td>[E. Santos]</td>\n",
       "      <td>[ForÃ§ou a saÃ­da de bola adversÃ¡ria]</td>\n",
       "      <td>1</td>\n",
       "      <td>[Zona 2]</td>\n",
       "      <td>Bragantino</td>\n",
       "    </tr>\n",
       "    <tr>\n",
       "      <th>L. Evangelista</th>\n",
       "      <td>[00:21:25]</td>\n",
       "      <td>[Helinho]</td>\n",
       "      <td>[ForÃ§ou a saÃ­da de bola adversÃ¡ria]</td>\n",
       "      <td>1</td>\n",
       "      <td>[Zona 1 - B]</td>\n",
       "      <td>Bragantino</td>\n",
       "    </tr>\n",
       "    <tr>\n",
       "      <th>B. Goncalves</th>\n",
       "      <td>[00:37:44]</td>\n",
       "      <td>[Juninho Capixaba ]</td>\n",
       "      <td>[Foi desarmado]</td>\n",
       "      <td>1</td>\n",
       "      <td>[Zona 1 - A]</td>\n",
       "      <td>Bragantino</td>\n",
       "    </tr>\n",
       "  </tbody>\n",
       "</table>\n",
       "</div>"
      ],
      "text/plain": [
       "               tempo_ruptura jogador_posse_de_bola  \\\n",
       "Helinho           [00:07:06]          [J. Hurtado]   \n",
       "J. Hurtado        [00:08:32]           [E. Santos]   \n",
       "L. Evangelista    [00:21:25]             [Helinho]   \n",
       "B. Goncalves      [00:37:44]   [Juninho Capixaba ]   \n",
       "\n",
       "                                              desfecho qntd_rupturas  \\\n",
       "Helinho                     [Foi derrubado com a bola]             1   \n",
       "J. Hurtado      [ForÃ§ou a saÃ­da de bola adversÃ¡ria]             1   \n",
       "L. Evangelista  [ForÃ§ou a saÃ­da de bola adversÃ¡ria]             1   \n",
       "B. Goncalves                           [Foi desarmado]             1   \n",
       "\n",
       "                        zona        time  \n",
       "Helinho             [Zona 2]  Bragantino  \n",
       "J. Hurtado          [Zona 2]  Bragantino  \n",
       "L. Evangelista  [Zona 1 - B]  Bragantino  \n",
       "B. Goncalves    [Zona 1 - A]  Bragantino  "
      ]
     },
     "execution_count": 12,
     "metadata": {},
     "output_type": "execute_result"
    }
   ],
   "source": [
    "DF_BRAGANTINO = pd.DataFrame(dic_rupturas_red)\n",
    "DF_BRAGANTINO = DF_BRAGANTINO.transpose()\n",
    "DF_BRAGANTINO"
   ]
  },
  {
   "cell_type": "code",
   "execution_count": 14,
   "metadata": {},
   "outputs": [
    {
     "data": {
      "text/plain": [
       "['Foi derrubado com a bola']"
      ]
     },
     "execution_count": 14,
     "metadata": {},
     "output_type": "execute_result"
    }
   ],
   "source": [
    "DF_BRAGANTINO[\"desfecho\"]"
   ]
  }
 ],
 "metadata": {
  "kernelspec": {
   "display_name": "venv",
   "language": "python",
   "name": "python3"
  },
  "language_info": {
   "codemirror_mode": {
    "name": "ipython",
    "version": 3
   },
   "file_extension": ".py",
   "mimetype": "text/x-python",
   "name": "python",
   "nbconvert_exporter": "python",
   "pygments_lexer": "ipython3",
   "version": "3.11.5"
  }
 },
 "nbformat": 4,
 "nbformat_minor": 2
}

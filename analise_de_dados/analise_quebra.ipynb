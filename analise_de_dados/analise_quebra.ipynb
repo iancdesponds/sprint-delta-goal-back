{
 "cells": [
  {
   "cell_type": "code",
   "execution_count": 1,
   "metadata": {},
   "outputs": [],
   "source": [
    "# Importing libraries\n",
    "import pandas as pd\n",
    "import scipy.stats as st\n",
    "import numpy as np\n",
    "import matplotlib.pyplot as plt\n",
    "import math"
   ]
  },
  {
   "cell_type": "code",
   "execution_count": 2,
   "metadata": {},
   "outputs": [],
   "source": [
    "df = pd.read_csv('../dados/dados_brutos.csv') # Leitura dos dados\n",
    "df = df.sort_values(by=['FRAME', 'TIME_JOGADOR']) # Ordena os dados por frame e tempo do jogador"
   ]
  },
  {
   "cell_type": "code",
   "execution_count": 3,
   "metadata": {},
   "outputs": [],
   "source": [
    "# DataFrame com os dados da bola\n",
    "df_bola = df[df['OBJETO_OBSERVADO'] == 'bola']\n",
    "\n",
    "df_bola = df_bola.sort_values(by=['TEMPO_JOGO', 'FRAME'])\n",
    "df_bola.reset_index(drop=True, inplace=True)"
   ]
  },
  {
   "cell_type": "code",
   "execution_count": null,
   "metadata": {},
   "outputs": [],
   "source": [
    "# DataFrames com somente as informações da bola e dos jogadores de cada time\n",
    "df_palmeiras = df[(df['TIME_JOGADOR'] != 'RED')]\n",
    "df_bragantino = df[(df['TIME_JOGADOR'] != 'PAL')]\n",
    "\n",
    "# DataFrames com somente as informações da bola e dos jogadores de cada time no primeiro tempo\n",
    "df_palmeiras_t1 = df_palmeiras[df_palmeiras['TEMPO_JOGO'] == 1]\n",
    "df_bragantino_t1 = df_bragantino[df_bragantino['TEMPO_JOGO'] == 1]"
   ]
  },
  {
   "cell_type": "code",
   "execution_count": null,
   "metadata": {},
   "outputs": [],
   "source": [
    "x_braga = 0\n",
    "\n",
    "    \n"
   ]
  }
 ],
 "metadata": {
  "kernelspec": {
   "display_name": ".venv",
   "language": "python",
   "name": "python3"
  },
  "language_info": {
   "codemirror_mode": {
    "name": "ipython",
    "version": 3
   },
   "file_extension": ".py",
   "mimetype": "text/x-python",
   "name": "python",
   "nbconvert_exporter": "python",
   "pygments_lexer": "ipython3",
   "version": "3.10.10"
  }
 },
 "nbformat": 4,
 "nbformat_minor": 2
}

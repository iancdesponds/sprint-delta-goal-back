{
 "cells": [
  {
   "cell_type": "code",
   "execution_count": 95,
   "metadata": {},
   "outputs": [],
   "source": [
    "# Importing libraries\n",
    "import pandas as pd\n",
    "import scipy.stats as st\n",
    "import numpy as np\n",
    "import matplotlib.pyplot as plt\n",
    "import math"
   ]
  },
  {
   "cell_type": "code",
   "execution_count": 96,
   "metadata": {},
   "outputs": [],
   "source": [
    "df = pd.read_csv('../dados/dados_brutos.csv') # Leitura dos dados\n",
    "df = df.sort_values(by=['FRAME', 'TIME_JOGADOR']) # Ordena os dados por frame e tempo do jogador"
   ]
  },
  {
   "cell_type": "code",
   "execution_count": 97,
   "metadata": {},
   "outputs": [
    {
     "data": {
      "text/plain": [
       "Index(['TEMPO_JOGO', 'FRAME', 'ID_JOGADOR', 'NOME_JOGADOR', 'POSICAO_JOGADOR',\n",
       "       'TIME_JOGADOR', 'OBJETO_OBSERVADO', 'X', 'Y', 'Z', 'VELOCIDADE',\n",
       "       'TIME_POSSE'],\n",
       "      dtype='object')"
      ]
     },
     "execution_count": 97,
     "metadata": {},
     "output_type": "execute_result"
    }
   ],
   "source": [
    "df.columns\n"
   ]
  },
  {
   "cell_type": "code",
   "execution_count": 98,
   "metadata": {},
   "outputs": [],
   "source": [
    "df_primeiro_pal = df[(df['TEMPO_JOGO'] == 1) & (df['TIME_POSSE'] == 'PAL')]\n",
    "\n",
    "df_segundo_pal = df[(df['TEMPO_JOGO'] == 2) & (df['TIME_POSSE'] == 'PAL')]\n",
    "\n",
    "df_primeiro_red = df[(df['TEMPO_JOGO'] == 1) & (df['TIME_POSSE'] == 'RED')]\n",
    "\n",
    "df_segundo_red = df[(df['TEMPO_JOGO'] == 2) & (df['TIME_POSSE'] == 'RED')]\n",
    "\n"
   ]
  },
  {
   "cell_type": "code",
   "execution_count": 99,
   "metadata": {},
   "outputs": [],
   "source": [
    "# for frame in df_primeiro_red['FRAME']:\n",
    "#     dois_melhores_x = df_primeiro_red.nlargest(2, 'X')\n",
    "\n",
    "# # Obter as posições correspondentes\n",
    "# posicao_jogador1 = (dois_melhores_x['X'].iloc[0], dois_melhores_x['Y'].iloc[0])\n",
    "# posicao_jogador2 = (dois_melhores_x['X'].iloc[1], dois_melhores_x['Y'].iloc[1])\n",
    "\n",
    "# print(f'Posição do Jogador1: {posicao_jogador1}')\n",
    "# print(f'Posição do Jogador2: {posicao_jogador2}')"
   ]
  },
  {
   "cell_type": "code",
   "execution_count": 100,
   "metadata": {},
   "outputs": [],
   "source": [
    "# import numpy as np\n",
    "# import matplotlib.pyplot as plt\n",
    "\n",
    "# # Posições dos jogadores\n",
    "# posicao_jogador1 = (dois_melhores_x['X'].iloc[0], dois_melhores_x['Y'].iloc[0])\n",
    "# posicao_jogador2 = (dois_melhores_x['X'].iloc[1], dois_melhores_x['Y'].iloc[1])\n",
    "\n",
    "# # Extração das coordenadas x e y\n",
    "# x1, y1 = posicao_jogador1\n",
    "# x2, y2 = posicao_jogador2\n",
    "\n",
    "# # Criar uma linha entre os dois pontos usando linspace\n",
    "# num_pontos = 100  # Você pode ajustar o número de pontos conforme necessário\n",
    "# x_linha = np.linspace(x1, x2, num_pontos)\n",
    "# y_linha = np.linspace(y1, y2, num_pontos)\n",
    "\n",
    "# # Visualizar a linha\n",
    "# plt.plot(x_linha, y_linha, label='Linha entre Jogador1 e Jogador2', color='red')\n",
    "# plt.scatter([x1, x2], [y1, y2], color='blue', label='Jogadores')\n",
    "# plt.xlabel('Eixo X')\n",
    "# plt.ylabel('Eixo Y')\n",
    "# plt.legend()\n",
    "# plt.show()\n"
   ]
  },
  {
   "cell_type": "code",
   "execution_count": 101,
   "metadata": {},
   "outputs": [],
   "source": [
    "df_jogadores_pal_1t = df[(df['TIME_JOGADOR'] == 'PAL') & (df[\"TEMPO_JOGO\"] == 1)]\n",
    "\n",
    "df_jogadores_red_1t = df[(df['TIME_JOGADOR'] == 'RED') & (df[\"TEMPO_JOGO\"] == 1)]\n",
    "\n",
    "df_bola_1t = df[(df['OBJETO_OBSERVADO'] == 'bola') & (df[\"TEMPO_JOGO\"] == 1)]\n",
    "\n",
    "\n",
    "\n"
   ]
  },
  {
   "cell_type": "code",
   "execution_count": 123,
   "metadata": {},
   "outputs": [
    {
     "name": "stdout",
     "output_type": "stream",
     "text": [
      "{100: 'Rony', 575: 'Rony', 750: 'Rony', 1275: 'Vanderlan', 2675: 'Dudu', 2825: 'Dudu', 3000: 'Vanderlan'}\n"
     ]
    }
   ],
   "source": [
    "dicionario_frame_jogador = {}\n",
    "\n",
    "minima_diferenca_frames = 150\n",
    "\n",
    "for frame in range(0, 4000, 25):\n",
    "    df_jogadores_pal_frame = df[(df['TIME_JOGADOR'] == 'PAL') & (df[\"TEMPO_JOGO\"] == 1) & (df[\"FRAME\"] == frame)]\n",
    "    df_jogadores_red_frame = df[(df['TIME_JOGADOR'] == 'RED') & (df[\"TEMPO_JOGO\"] == 1) & (df[\"FRAME\"] == frame) & (df['POSICAO_JOGADOR'] != 'Goleiro')]\n",
    "\n",
    "    dois_maiores_x_red = df_jogadores_red_frame.nlargest(2, 'X')\n",
    "    posicao_jogador1_red = (dois_maiores_x_red['X'].iloc[0], dois_maiores_x_red['Y'].iloc[0])\n",
    "    posicao_jogador2_red = (dois_maiores_x_red['X'].iloc[1], dois_maiores_x_red['Y'].iloc[1])\n",
    "\n",
    "    x_linha = (posicao_jogador1_red[0] + posicao_jogador2_red[0]) / 2\n",
    "\n",
    "    dois_maiores_x_pal = df_jogadores_pal_frame.nlargest(2, 'X')\n",
    "    posicao_jogador1_pal = (dois_maiores_x_pal['X'].iloc[0], dois_maiores_x_pal['Y'].iloc[0])\n",
    "    posicao_jogador2_pal = (dois_maiores_x_pal['X'].iloc[1], dois_maiores_x_pal['Y'].iloc[1])\n",
    "\n",
    "    if not dois_maiores_x_pal.empty and x_linha - posicao_jogador1_pal[0] < 1:\n",
    "        if not dicionario_frame_jogador or frame - max(dicionario_frame_jogador.keys()) >= minima_diferenca_frames:\n",
    "            dicionario_frame_jogador[frame] = dois_maiores_x_pal['NOME_JOGADOR'].iloc[0]\n",
    "\n",
    "    if not dois_maiores_x_pal.empty and x_linha - posicao_jogador2_pal[0] < 1:\n",
    "        if not dicionario_frame_jogador or frame - max(dicionario_frame_jogador.keys()) >= minima_diferenca_frames:\n",
    "            dicionario_frame_jogador[frame] = dois_maiores_x_pal['NOME_JOGADOR'].iloc[1]\n",
    "\n",
    "\n",
    "\n",
    "\n",
    "print(dicionario_frame_jogador)\n",
    "\n",
    "    "
   ]
  },
  {
   "cell_type": "code",
   "execution_count": 117,
   "metadata": {},
   "outputs": [
    {
     "name": "stdout",
     "output_type": "stream",
     "text": [
      "{}\n"
     ]
    }
   ],
   "source": [
    "dicionario_frame_jogador = {}\n",
    "frames_iniciais = []\n",
    "\n",
    "minima_diferenca_frames = 150\n",
    "distancia_x_limite = 1\n",
    "\n",
    "for frame in range(0, 7000, 25):\n",
    "    df_jogadores_pal_frame = df[(df['TIME_JOGADOR'] == 'PAL') & (df[\"TEMPO_JOGO\"] == 1) & (df[\"FRAME\"] == frame)]\n",
    "    df_jogadores_red_frame = df[(df['TIME_JOGADOR'] == 'RED') & (df[\"TEMPO_JOGO\"] == 1) & (df[\"FRAME\"] == frame) & (df['POSICAO_JOGADOR'] != 'Goleiro')]\n",
    "\n",
    "    dois_maiores_x_red = df_jogadores_red_frame.nlargest(2, 'X')\n",
    "    posicao_jogador1_red = (dois_maiores_x_red['X'].iloc[0], dois_maiores_x_red['Y'].iloc[0])\n",
    "    posicao_jogador2_red = (dois_maiores_x_red['X'].iloc[1], dois_maiores_x_red['Y'].iloc[1])\n",
    "\n",
    "    x_linha = (posicao_jogador1_red[0] + posicao_jogador2_red[0]) / 2\n",
    "\n",
    "    dois_maiores_x_pal = df_jogadores_pal_frame.nlargest(2, 'X')\n",
    "    posicao_jogador1_pal = (dois_maiores_x_pal['X'].iloc[0], dois_maiores_x_pal['Y'].iloc[0])\n",
    "    posicao_jogador2_pal = (dois_maiores_x_pal['X'].iloc[1], dois_maiores_x_pal['Y'].iloc[1])\n",
    "\n",
    "    if not dois_maiores_x_pal.empty and x_linha - posicao_jogador1_pal[0] < distancia_x_limite:\n",
    "        if not frames_iniciais or frame - max(frames_iniciais) >= minima_diferenca_frames:\n",
    "            dicionario_frame_jogador[frame] = dois_maiores_x_pal['NOME_JOGADOR'].iloc[0]\n",
    "            frames_iniciais.append(frame)\n",
    "\n",
    "    if not dois_maiores_x_pal.empty and x_linha - posicao_jogador2_pal[0] < distancia_x_limite:\n",
    "        if not frames_iniciais or frame - max(frames_iniciais) >= minima_diferenca_frames:\n",
    "            dicionario_frame_jogador[frame] = dois_maiores_x_pal['NOME_JOGADOR'].iloc[1]\n",
    "            frames_iniciais.append(frame)\n",
    "\n",
    "# Remover jogadores que não atendem à condição 25 frames após\n",
    "for frame_inicial in frames_iniciais.copy():\n",
    "    frame_verificacao = frame_inicial + 25\n",
    "    if frame_verificacao not in dicionario_frame_jogador or frame_verificacao + minima_diferenca_frames >= frame:\n",
    "        # Remover entrada do dicionário\n",
    "        dicionario_frame_jogador.pop(frame_inicial)\n",
    "\n",
    "# Agora, dicionario_frame_jogador contém apenas os jogadores que atendem à condição 25 frames após\n",
    "print(dicionario_frame_jogador)\n"
   ]
  },
  {
   "cell_type": "code",
   "execution_count": 118,
   "metadata": {},
   "outputs": [
    {
     "name": "stdout",
     "output_type": "stream",
     "text": [
      "{100: 'Rony', 125: 'Rony', 575: 'Rony', 750: 'Rony', 775: 'Rony', 800: 'Rony', 825: 'Rony', 1275: 'Vanderlan', 2675: 'Dudu', 2800: 'Dudu', 2825: 'Dudu', 2850: 'Dudu', 2900: 'Gabriel Menino', 3000: 'Vanderlan', 3025: 'Vanderlan', 3050: 'Vanderlan', 4425: 'Dudu', 4450: 'Dudu', 4475: 'Dudu', 4500: 'Dudu', 4525: 'Rony', 4550: 'Rony', 4575: 'Dudu', 4600: 'Dudu', 4625: 'Dudu', 4650: 'Dudu', 4675: 'Dudu', 4700: 'Dudu', 4725: 'Dudu', 5675: 'Rony', 5700: 'Rony', 5725: 'Rony', 5750: 'Rony', 5775: 'Rony', 5800: 'Rony', 5825: 'Rony', 5850: 'Rony', 5875: 'Rony', 5900: 'Rony', 5925: 'Rony', 5950: 'Rony', 5975: 'Rony', 6000: 'Rony', 6025: 'Rony', 6050: 'Rony', 6075: 'Rony', 6350: 'Rony', 6375: 'Rony', 6400: 'Rony', 6425: 'Rony', 6450: 'Rony', 6700: 'Rony', 6725: 'Rony', 6750: 'Rony', 6775: 'Rony', 6800: 'Rony', 6825: 'Rony'}\n"
     ]
    }
   ],
   "source": [
    "dicionario_frame_jogador = {}\n",
    "\n",
    "minima_diferenca_frames = 150\n",
    "distancia_x_limite = 1\n",
    "\n",
    "for frame in range(0, 7000, 25):\n",
    "    df_jogadores_pal_frame = df[(df['TIME_JOGADOR'] == 'PAL') & (df[\"TEMPO_JOGO\"] == 1) & (df[\"FRAME\"] == frame)]\n",
    "    df_jogadores_red_frame = df[(df['TIME_JOGADOR'] == 'RED') & (df[\"TEMPO_JOGO\"] == 1) & (df[\"FRAME\"] == frame) & (df['POSICAO_JOGADOR'] != 'Goleiro')]\n",
    "\n",
    "    dois_maiores_x_red = df_jogadores_red_frame.nlargest(2, 'X')\n",
    "    posicao_jogador1_red = (dois_maiores_x_red['X'].iloc[0], dois_maiores_x_red['Y'].iloc[0])\n",
    "    posicao_jogador2_red = (dois_maiores_x_red['X'].iloc[1], dois_maiores_x_red['Y'].iloc[1])\n",
    "\n",
    "    x_linha = (posicao_jogador1_red[0] + posicao_jogador2_red[0]) / 2\n",
    "\n",
    "    dois_maiores_x_pal = df_jogadores_pal_frame.nlargest(2, 'X')\n",
    "    posicao_jogador1_pal = (dois_maiores_x_pal['X'].iloc[0], dois_maiores_x_pal['Y'].iloc[0])\n",
    "    posicao_jogador2_pal = (dois_maiores_x_pal['X'].iloc[1], dois_maiores_x_pal['Y'].iloc[1])\n",
    "\n",
    "    if not dois_maiores_x_pal.empty and x_linha - posicao_jogador1_pal[0] < distancia_x_limite:\n",
    "        dicionario_frame_jogador[frame] = dois_maiores_x_pal['NOME_JOGADOR'].iloc[0]\n",
    "\n",
    "    if not dois_maiores_x_pal.empty and x_linha - posicao_jogador2_pal[0] < distancia_x_limite:\n",
    "        dicionario_frame_jogador[frame] = dois_maiores_x_pal['NOME_JOGADOR'].iloc[1]\n",
    "    \n",
    "\n",
    "\n",
    "print(dicionario_frame_jogador)\n"
   ]
  },
  {
   "cell_type": "code",
   "execution_count": 129,
   "metadata": {},
   "outputs": [
    {
     "name": "stdout",
     "output_type": "stream",
     "text": [
      "{750: 'Rony', 3000: 'Vanderlan', 4425: 'Dudu', 4575: 'Dudu'}\n",
      "77.505\n",
      "94.38\n"
     ]
    }
   ],
   "source": [
    "dicionario_frame_jogador = {}\n",
    "minima_diferenca_frames = 150\n",
    "\n",
    "for frame in range(0, 5000, 25):\n",
    "    df_jogadores_pal_frame = df[(df['TIME_JOGADOR'] == 'PAL') & (df[\"TEMPO_JOGO\"] == 1) & (df[\"FRAME\"] == frame)]\n",
    "    df_jogadores_red_frame = df[(df['TIME_JOGADOR'] == 'RED') & (df[\"TEMPO_JOGO\"] == 1) & (df[\"FRAME\"] == frame) & (df['POSICAO_JOGADOR'] != 'Goleiro')]\n",
    "\n",
    "    dois_maiores_x_red = df_jogadores_red_frame.nlargest(2, 'X')\n",
    "    posicao_jogador1_red = (dois_maiores_x_red['X'].iloc[0], dois_maiores_x_red['Y'].iloc[0])\n",
    "    posicao_jogador2_red = (dois_maiores_x_red['X'].iloc[1], dois_maiores_x_red['Y'].iloc[1])\n",
    "\n",
    "    x_linha = (posicao_jogador1_red[0] + posicao_jogador2_red[0]) / 2\n",
    "\n",
    "    dois_maiores_x_pal = df_jogadores_pal_frame.nlargest(2, 'X')\n",
    "    posicao_jogador1_pal = (dois_maiores_x_pal['X'].iloc[0], dois_maiores_x_pal['Y'].iloc[0])\n",
    "    posicao_jogador2_pal = (dois_maiores_x_pal['X'].iloc[1], dois_maiores_x_pal['Y'].iloc[1])\n",
    "\n",
    "    if not dois_maiores_x_pal.empty and x_linha - posicao_jogador1_pal[0] < 1:\n",
    "        if not dicionario_frame_jogador or frame - max(dicionario_frame_jogador.keys()) >= minima_diferenca_frames:\n",
    "            dicionario_frame_jogador[frame] = dois_maiores_x_pal['NOME_JOGADOR'].iloc[0]\n",
    "\n",
    "    if not dois_maiores_x_pal.empty and x_linha - posicao_jogador2_pal[0] < 1:\n",
    "        if not dicionario_frame_jogador or frame - max(dicionario_frame_jogador.keys()) >= minima_diferenca_frames:\n",
    "            dicionario_frame_jogador[frame] = dois_maiores_x_pal['NOME_JOGADOR'].iloc[1]\n",
    "\n",
    "# Adicionar verificação para 25 frames após o frame atual\n",
    "frames_chaves = list(dicionario_frame_jogador.keys())\n",
    "for frame_chave in frames_chaves:\n",
    "    frame_verificacao = frame_chave + 25\n",
    "\n",
    "\n",
    "    # Obter a posição do jogador 25 frames após\n",
    "    df_jogadores_verificacao = df[(df['TIME_JOGADOR'] == 'PAL') & (df[\"TEMPO_JOGO\"] == 1) & (df[\"FRAME\"] == frame_verificacao)]\n",
    "\n",
    "    jogador_nome = dicionario_frame_jogador[frame_chave]\n",
    "    jogador_x_verificacao = df_jogadores_verificacao[df_jogadores_verificacao['NOME_JOGADOR'] == jogador_nome]['X'].iloc[0]\n",
    "\n",
    "    df_jogadores_red_frame_depois = df[(df['TIME_JOGADOR'] == 'RED') & (df[\"TEMPO_JOGO\"] == 1) & (df[\"FRAME\"] == frame_verificacao) & (df['POSICAO_JOGADOR'] != 'Goleiro')]\n",
    "    dois_maiores_x_red = df_jogadores_red_frame_depois.nlargest(2, 'X')\n",
    "    posicao_jogador1_red_depois = (dois_maiores_x_red['X'].iloc[0], dois_maiores_x_red['Y'].iloc[0])\n",
    "    posicao_jogador2_red_depois = (dois_maiores_x_red['X'].iloc[1], dois_maiores_x_red['Y'].iloc[1])\n",
    "\n",
    "    x_linha_depois = (posicao_jogador1_red_depois[0] + posicao_jogador2_red_depois[0]) / 2\n",
    "\n",
    "    if jogador_x_verificacao <= x_linha_depois:\n",
    "        # Remover entrada do dicionário se a condição não for atendida\n",
    "        dicionario_frame_jogador.pop(frame_chave)\n",
    "\n",
    "print(dicionario_frame_jogador)\n",
    "print(x_linha)\n",
    "print(x_linha_depois)\n"
   ]
  },
  {
   "cell_type": "code",
   "execution_count": 144,
   "metadata": {},
   "outputs": [
    {
     "name": "stdout",
     "output_type": "stream",
     "text": [
      "{4575: 'Dudu', 7575: 'Rony', 15250: 'Rony', 15400: 'Rony', 15550: 'Rony', 15700: 'Rony', 19225: 'Rony', 19375: 'Rony', 19525: 'Rony', 19675: 'Rony', 19825: 'Rony', 19975: 'Rony', 20125: 'Rony', 20275: 'Gabriel Menino', 20425: 'Rony', 20575: 'Rony', 22150: 'Rony', 22300: 'Rony', 22450: 'Rony', 22600: 'Raphael Veiga', 22750: 'Raphael Veiga', 24900: 'Rony', 25050: 'Rony', 27600: 'Mayke', 28050: 'Dudu', 29900: 'Rony', 30050: 'Rony', 30200: 'Rony', 39375: 'Rony', 39675: 'Rony', 40350: 'Raphael Veiga', 40500: 'Raphael Veiga', 40650: 'Raphael Veiga', 41500: 'Artur', 42625: 'Vanderlan', 47575: 'Rony', 48175: 'Rony', 48825: 'Raphael Veiga', 48975: 'Raphael Veiga', 49125: 'Raphael Veiga', 49275: 'Raphael Veiga', 49425: 'Raphael Veiga', 49575: 'Raphael Veiga', 49725: 'Raphael Veiga', 49875: 'Raphael Veiga', 50025: 'Raphael Veiga', 50175: 'Raphael Veiga', 50325: 'Rony', 50475: 'Rony', 50625: 'Mayke', 50775: 'Raphael Veiga', 50925: 'Raphael Veiga', 51075: 'Raphael Veiga', 51350: 'Gustavo Gomez', 51600: 'Rony', 51750: 'Dudu', 51900: 'Dudu', 52200: 'Dudu', 52350: 'Rony', 53225: 'Rony', 57875: 'Rony', 62350: 'Vanderlan', 62500: 'Rony', 62650: 'Rony', 62800: 'Rony', 62950: 'Rony', 63100: 'Rony', 63250: 'Rony', 63400: 'Rony', 64225: 'Gustavo Gomez', 66950: 'Vanderlan'}\n",
      "95.03999999999999\n",
      "95.03999999999999\n"
     ]
    }
   ],
   "source": [
    "dicionario_frame_jogador = {}\n",
    "minima_diferenca_frames = 150\n",
    "\n",
    "\n",
    "\n",
    "for frame in range(0, 67000, 25):\n",
    "    df_jogadores_pal_frame = df[(df['TIME_JOGADOR'] == 'PAL') & (df[\"TEMPO_JOGO\"] == 1) & (df[\"FRAME\"] == frame)]\n",
    "    df_jogadores_red_frame = df[(df['TIME_JOGADOR'] == 'RED') & (df[\"TEMPO_JOGO\"] == 1) & (df[\"FRAME\"] == frame) & (df['POSICAO_JOGADOR'] != 'Goleiro')]\n",
    "\n",
    "    dois_maiores_x_red = df_jogadores_red_frame.nlargest(2, 'X')\n",
    "    posicao_jogador1_red = (dois_maiores_x_red['X'].iloc[0], dois_maiores_x_red['Y'].iloc[0])\n",
    "    posicao_jogador2_red = (dois_maiores_x_red['X'].iloc[1], dois_maiores_x_red['Y'].iloc[1])\n",
    "\n",
    "    x_linha = (posicao_jogador1_red[0] + posicao_jogador2_red[0]) / 2\n",
    "\n",
    "    dois_maiores_x_pal = df_jogadores_pal_frame.nlargest(2, 'X')\n",
    "    posicao_jogador1_pal = (dois_maiores_x_pal['X'].iloc[0], dois_maiores_x_pal['Y'].iloc[0])\n",
    "    posicao_jogador2_pal = (dois_maiores_x_pal['X'].iloc[1], dois_maiores_x_pal['Y'].iloc[1])\n",
    "\n",
    "    if not dois_maiores_x_pal.empty and x_linha - posicao_jogador1_pal[0] < 1:\n",
    "        if not dicionario_frame_jogador or frame - max(dicionario_frame_jogador.keys()) >= minima_diferenca_frames:\n",
    "            dicionario_frame_jogador[frame] = dois_maiores_x_pal['NOME_JOGADOR'].iloc[0]\n",
    "\n",
    "    if not dois_maiores_x_pal.empty and x_linha - posicao_jogador2_pal[0] < 1:\n",
    "        if not dicionario_frame_jogador or frame - max(dicionario_frame_jogador.keys()) >= minima_diferenca_frames:\n",
    "            dicionario_frame_jogador[frame] = dois_maiores_x_pal['NOME_JOGADOR'].iloc[1]\n",
    "\n",
    "# Adicionar verificação para 25 frames após o frame atual\n",
    "frames_chaves = list(dicionario_frame_jogador.keys())\n",
    "for frame_chave in frames_chaves:\n",
    "    frame_verificacao = frame_chave + 25\n",
    "\n",
    "    # Obter a posição do jogador 25 frames após\n",
    "    df_jogadores_verificacao = df[(df['TIME_JOGADOR'] == 'PAL') & (df[\"TEMPO_JOGO\"] == 1) & (df[\"FRAME\"] == frame_verificacao)]\n",
    "\n",
    "    jogador_nome = dicionario_frame_jogador[frame_chave]\n",
    "    jogador_x_verificacao = df_jogadores_verificacao[df_jogadores_verificacao['NOME_JOGADOR'] == jogador_nome]['X'].iloc[0]\n",
    "\n",
    "    df_jogadores_red_frame_depois = df[(df['TIME_JOGADOR'] == 'RED') & (df[\"TEMPO_JOGO\"] == 1) & (df[\"FRAME\"] == frame_verificacao) & (df['POSICAO_JOGADOR'] != 'Goleiro')]\n",
    "    dois_maiores_x_red = df_jogadores_red_frame_depois.nlargest(2, 'X')\n",
    "    posicao_jogador1_red_depois = (dois_maiores_x_red['X'].iloc[0], dois_maiores_x_red['Y'].iloc[0])\n",
    "    posicao_jogador2_red_depois = (dois_maiores_x_red['X'].iloc[1], dois_maiores_x_red['Y'].iloc[1])\n",
    "\n",
    "    x_linha_depois = (posicao_jogador1_red_depois[0] + posicao_jogador2_red_depois[0]) / 2\n",
    "\n",
    "    if jogador_x_verificacao <= x_linha_depois:\n",
    "        # Remover entrada do dicionário se a condição não for atendida\n",
    "        dicionario_frame_jogador.pop(frame_chave)\n",
    "    elif x_linha_depois < x_linha:\n",
    "        # Remover entrada do dicionário se a condição não for atendida\n",
    "        dicionario_frame_jogador.pop(frame_chave)\n",
    "\n",
    "print(dicionario_frame_jogador)\n",
    "print(x_linha)\n",
    "print(x_linha_depois)"
   ]
  }
 ],
 "metadata": {
  "kernelspec": {
   "display_name": ".venv",
   "language": "python",
   "name": "python3"
  },
  "language_info": {
   "codemirror_mode": {
    "name": "ipython",
    "version": 3
   },
   "file_extension": ".py",
   "mimetype": "text/x-python",
   "name": "python",
   "nbconvert_exporter": "python",
   "pygments_lexer": "ipython3",
   "version": "3.10.10"
  }
 },
 "nbformat": 4,
 "nbformat_minor": 2
}

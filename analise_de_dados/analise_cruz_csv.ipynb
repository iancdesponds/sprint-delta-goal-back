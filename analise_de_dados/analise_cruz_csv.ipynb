{
 "cells": [
  {
   "cell_type": "markdown",
   "metadata": {},
   "source": [
    "### Análise dos dados do dataset oficial para vizualização dos cruzamentos ocorridos."
   ]
  },
  {
   "cell_type": "code",
   "execution_count": 270,
   "metadata": {},
   "outputs": [],
   "source": [
    "# Importing libraries\n",
    "import pandas as pd\n",
    "import scipy.stats as st\n",
    "import numpy as np\n",
    "import matplotlib.pyplot as plt\n",
    "import math"
   ]
  },
  {
   "cell_type": "code",
   "execution_count": 271,
   "metadata": {},
   "outputs": [],
   "source": [
    "df = pd.read_csv('../dados/dados_brutos.csv') # Leitura dos dados\n",
    "df = df.sort_values(by=['FRAME', 'TIME_JOGADOR']) # Ordena os dados por frame e tempo do jogador"
   ]
  },
  {
   "cell_type": "code",
   "execution_count": 272,
   "metadata": {},
   "outputs": [
    {
     "data": {
      "text/plain": [
       "Index(['TEMPO_JOGO', 'FRAME', 'ID_JOGADOR', 'NOME_JOGADOR', 'POSICAO_JOGADOR',\n",
       "       'TIME_JOGADOR', 'OBJETO_OBSERVADO', 'X', 'Y', 'Z', 'VELOCIDADE',\n",
       "       'TIME_POSSE'],\n",
       "      dtype='object')"
      ]
     },
     "execution_count": 272,
     "metadata": {},
     "output_type": "execute_result"
    }
   ],
   "source": [
    "df.columns"
   ]
  },
  {
   "cell_type": "code",
   "execution_count": 273,
   "metadata": {},
   "outputs": [
    {
     "name": "stderr",
     "output_type": "stream",
     "text": [
      "C:\\Users\\Daniel\\AppData\\Local\\Temp\\ipykernel_17304\\2553525433.py:4: SettingWithCopyWarning: \n",
      "A value is trying to be set on a copy of a slice from a DataFrame.\n",
      "Try using .loc[row_indexer,col_indexer] = value instead\n",
      "\n",
      "See the caveats in the documentation: https://pandas.pydata.org/pandas-docs/stable/user_guide/indexing.html#returning-a-view-versus-a-copy\n",
      "  df_bola[\"DENTRO_AREA_DIREITA\"] = 0\n",
      "C:\\Users\\Daniel\\AppData\\Local\\Temp\\ipykernel_17304\\2553525433.py:5: SettingWithCopyWarning: \n",
      "A value is trying to be set on a copy of a slice from a DataFrame.\n",
      "Try using .loc[row_indexer,col_indexer] = value instead\n",
      "\n",
      "See the caveats in the documentation: https://pandas.pydata.org/pandas-docs/stable/user_guide/indexing.html#returning-a-view-versus-a-copy\n",
      "  df_bola[\"DENTRO_AREA_ESQUERDA\"] = 0\n"
     ]
    }
   ],
   "source": [
    "df_bola = df[df['OBJETO_OBSERVADO'] == 'bola']\n",
    "\n",
    "# Cria colunas para indicar se a bola está dentro da área\n",
    "df_bola[\"DENTRO_AREA_DIREITA\"] = 0\n",
    "df_bola[\"DENTRO_AREA_ESQUERDA\"] = 0\n",
    "\n",
    "area_direita = (df_bola[\"X\"] > 101.5) & (df_bola[\"Y\"] > 17.85) & (df_bola[\"Y\"] < 58.15)\n",
    "df_bola.loc[area_direita, \"DENTRO_AREA_DIREITA\"] = 1\n",
    "\n",
    "area_esquerda = (df_bola[\"X\"] < 16.5) & (df_bola[\"Y\"] > 17.85) & (df_bola[\"Y\"] < 58.15)\n",
    "df_bola.loc[area_esquerda, \"DENTRO_AREA_ESQUERDA\"] = 1"
   ]
  },
  {
   "cell_type": "code",
   "execution_count": 274,
   "metadata": {},
   "outputs": [],
   "source": [
    "# DataFrame com os dados da bola\n",
    "df_bola = df_bola.sort_values(by=['TEMPO_JOGO', 'FRAME'])\n",
    "df_bola.reset_index(drop=True, inplace=True)"
   ]
  },
  {
   "cell_type": "code",
   "execution_count": 275,
   "metadata": {},
   "outputs": [],
   "source": [
    "# Palmeiras atacando a área direita\n",
    "\n",
    "df_pal_ataque_direita = df_bola[\n",
    "    (df_bola['TIME_POSSE'] == 'PAL') & \n",
    "    (df_bola['VELOCIDADE'] >= 1.5) & \n",
    "    (df_bola['TEMPO_JOGO'] == 1) & \n",
    "    (df_bola['X'] < 118) & \n",
    "    (df_bola['X'] >= 86.5) & \n",
    "    (df_bola['Y'] < 76)\n",
    "]\n",
    "\n",
    "df_pal_ataque_direita.reset_index(drop=True, inplace=True)\n",
    "\n",
    "areas_direita = {\n",
    "    'E1.2':{\n",
    "        'X0': 86.5,\n",
    "        'X1': 101.5,\n",
    "        'Y0': 0,\n",
    "        'Y1': 17.85,\n",
    "        'num': 0\n",
    "    },\n",
    "    'E1.1':{\n",
    "        'X0': 86.5,\n",
    "        'X1': 101.5,\n",
    "        'Y0': 17.85,\n",
    "        'Y1': 38,\n",
    "        'num': 0\n",
    "    },\n",
    "    'E2.1':{\n",
    "        'X0': 101.5,\n",
    "        'X1': 109.75,\n",
    "        'Y0': 0,\n",
    "        'Y1': 17.85,\n",
    "        'num': 0\n",
    "    },\n",
    "    'E2.2':{\n",
    "        'X0': 109.75,\n",
    "        'X1': 118,\n",
    "        'Y0': 0,\n",
    "        'Y1': 17.85,\n",
    "        'num': 0\n",
    "    },\n",
    "    'E3':{\n",
    "        'X0': 101.5,\n",
    "        'X1': 109.75,\n",
    "        'Y0': 17.85,\n",
    "        'Y1': 27.92,\n",
    "        'num': 0\n",
    "    },\n",
    "    'D1.1':{\n",
    "        'X0': 86.5,\n",
    "        'X1': 101.5,\n",
    "        'Y0': 38,\n",
    "        'Y1': 58.15,\n",
    "        'num': 0\n",
    "    },\n",
    "    'D1.2':{\n",
    "        'X0': 86.5,\n",
    "        'X1': 101.5,\n",
    "        'Y0': 58.15,\n",
    "        'Y1': 76,\n",
    "        'num': 0\n",
    "    },\n",
    "    'D2.1':{\n",
    "        'X0': 101.5,\n",
    "        'X1': 109.75,\n",
    "        'Y0': 58.15,\n",
    "        'Y1': 76,\n",
    "        'num': 0\n",
    "    },\n",
    "    'D2.2':{\n",
    "        'X0': 109.75,\n",
    "        'X1': 118,\n",
    "        'Y0': 58.15,\n",
    "        'Y1': 76,\n",
    "        'num': 0\n",
    "    },\n",
    "    'D3':{\n",
    "        'X0': 101.5,\n",
    "        'X1': 109.75,\n",
    "        'Y0': 48.07,\n",
    "        'Y1': 58.15,\n",
    "        'num':0\n",
    "    }\n",
    "}"
   ]
  },
  {
   "cell_type": "code",
   "execution_count": 276,
   "metadata": {},
   "outputs": [],
   "source": [
    "# Variáveis para o simulação inicial de cruzamentos\n",
    "contador = 0\n",
    "frames_teste = []\n"
   ]
  },
  {
   "cell_type": "code",
   "execution_count": 277,
   "metadata": {},
   "outputs": [
    {
     "name": "stdout",
     "output_type": "stream",
     "text": [
      "Primeira simulação de cruzamentos resultou em: 19\n",
      "Primeira simulação de frames resultou em: [8189, 14138, 15308, 19367, 19484, 20363, 22567, 27621, 29742, 39832, 40645, 48331, 49319, 49455, 50587, 52091, 52427, 62235, 67044]\n"
     ]
    }
   ],
   "source": [
    "# Análise inicial de cruzamentos\n",
    "\n",
    "for index, row in df_pal_ataque_direita.iterrows():\n",
    "    if index+1 == len(df_pal_ataque_direita): # Verifica se é o último frame\n",
    "        break\n",
    "    if df_pal_ataque_direita.iloc[index+1]['DENTRO_AREA_DIREITA'] == 1 and row['DENTRO_AREA_DIREITA'] == 0: # Verifica se a bola entrou na área\n",
    "        sequencia_de_1 = 0\n",
    "        for i in range(1, 21): # 0.8 segundo\n",
    "            if index+i == len(df_pal_ataque_direita):\n",
    "                break\n",
    "            if df_pal_ataque_direita.iloc[index+i]['DENTRO_AREA_DIREITA'] == 1:\n",
    "                sequencia_de_1 += 1\n",
    "            if sequencia_de_1 == 20: # A sequência de 20 frames significa que a bola esteve na área por 0.8 segundo\n",
    "                for area in areas_direita:\n",
    "                    if df_pal_ataque_direita.iloc[index-50]['X'] > areas_direita[area]['X0'] and df_pal_ataque_direita.iloc[index-50]['X'] < areas_direita[area]['X1'] and df_pal_ataque_direita.iloc[index-50]['Y'] > areas_direita[area]['Y0'] and df_pal_ataque_direita.iloc[index-50]['Y'] < areas_direita[area]['Y1']:\n",
    "                        areas_direita[area]['num'] += 1\n",
    "                        contador += 1\n",
    "                        frames_teste.append(df_pal_ataque_direita.iloc[index+1]['FRAME']) # frame quando a bola entra na área\n",
    "                        break\n",
    "                break\n",
    "\n",
    "# Resultados\n",
    "print(f'Primeira simulação de cruzamentos resultou em: {contador}')\n",
    "print(f'Primeira simulação de frames resultou em: {frames_teste}')"
   ]
  },
  {
   "cell_type": "code",
   "execution_count": 278,
   "metadata": {},
   "outputs": [],
   "source": [
    "# DataFrames com somente as informações da bola e dos jogadores de cada time\n",
    "df_palmeiras = df[(df['TIME_JOGADOR'] != 'RED')]\n",
    "df_bragantino = df[(df['TIME_JOGADOR'] != 'PAL')]"
   ]
  },
  {
   "cell_type": "code",
   "execution_count": 279,
   "metadata": {},
   "outputs": [],
   "source": [
    "# DataFrames com somente as informações da bola e dos jogadores de cada time no primeiro tempo\n",
    "df_palmeiras_t1 = df_palmeiras[df_palmeiras['TEMPO_JOGO'] == 1]\n",
    "df_bragantino_t1 = df_bragantino[df_bragantino['TEMPO_JOGO'] == 1]\n"
   ]
  },
  {
   "cell_type": "code",
   "execution_count": 280,
   "metadata": {},
   "outputs": [],
   "source": [
    "# Dicionários\n",
    "jogadores_que_cruzaram = {} # Dicionário com os jogadores que cruzaram a bola / frames que cruzaram a bola\n",
    "velocidades_maximas = {} # Dicionário com as velocidades máximas da bola em cada frame que ocorre um cruzamento\n",
    "\n",
    "# Variáveis\n",
    "cruzamentos = 0 # Número de cruzamentos final\n",
    "frames_finais = [] # Lista com os frames finais de cada cruzamento"
   ]
  },
  {
   "cell_type": "code",
   "execution_count": 281,
   "metadata": {},
   "outputs": [
    {
     "name": "stdout",
     "output_type": "stream",
     "text": [
      "Número de cruzamentos encontrados no 1º tempo do Palmeiras foi: 15\n",
      "Nos frames: [8183, 15268, 19341, 19484, 20358, 22566, 27600, 29742, 39832, 48329, 49309, 52088, 52423, 62186, 67040]\n",
      "Dicionário dos jogadores que cruzaram a bola, com os frames: {'Raphael Veiga': [8183, 19484, 20358, 22566, 49309], 'Rony': [15268], 'Artur': [19341, 27600, 52423], 'Vanderlan': [29742, 62186, 67040], 'Dudu': [39832, 48329, 52088]}\n",
      "15\n"
     ]
    }
   ],
   "source": [
    "# Análise de quem realizou cada cruzamento contado em 'frames'\n",
    "\n",
    "for frame in frames_teste: \n",
    "\n",
    "    # Variáveis\n",
    "    x_bola = 0\n",
    "    y_bola = 0\n",
    "    velocidade_bola = 0\n",
    "    distancia_entre_jogador_e_bola = 100 # Valor inicial alto para que qualquer distância seja menor que ele\n",
    "    \n",
    "    # DataFrame com os dados da bola no intervalo do cruzamento (frame e 2 segundos antes)\n",
    "    df_frame_bola = df_palmeiras_t1[(df_palmeiras_t1['FRAME'] <= frame) & (df_palmeiras_t1['FRAME'] >= frame-50) & (df_palmeiras_t1['OBJETO_OBSERVADO'] == 'bola')]\n",
    "\n",
    "    for index, row in df_frame_bola.iterrows():\n",
    "        if row['VELOCIDADE'] > velocidade_bola:\n",
    "            velocidade_bola = row['VELOCIDADE'] # Determina a velocidade máxima da bola no intervalo\n",
    "            frame_que_cruzou = row['FRAME'] # Determina o frame em que a bola atinge a velocidade máxima\n",
    "            # Coordenadas da bola no momento do cruzamento\n",
    "            x_bola = row['X']\n",
    "            y_bola = row['Y']\n",
    "\n",
    "    # Velocidades máximas atingidas pela bola em cada cruzamento (momento em que o jogador toca na bola)\n",
    "    velocidades_maximas[frame_que_cruzou] = velocidade_bola\n",
    "\n",
    "    # Mesmo DataFrame, mas com os dados dos jogadores\n",
    "    df_frame_jogadores = df_palmeiras_t1[(df_palmeiras_t1['FRAME'] <= frame) & (df_palmeiras_t1['FRAME'] >= frame-50) & (df_palmeiras_t1['OBJETO_OBSERVADO'] == 'jogador')]\n",
    "\n",
    "    for index, row in df_frame_jogadores.iterrows():\n",
    "        pos_jogador = [row['X'], row['Y']] # Coordenadas do jogador\n",
    "        pos_bola = [x_bola, y_bola] # Coordenadas da bola\n",
    "        distancia_medida = math.dist(pos_jogador, pos_bola) # Distância entre o jogador e a bola: distância de dois pontos\n",
    "        if distancia_medida < distancia_entre_jogador_e_bola: # A menor distância é a que o jogador toca na bola (cruza)\n",
    "            distancia_entre_jogador_e_bola = distancia_medida\n",
    "            jogador = row['NOME_JOGADOR'] # Nome do jogador que cruzou\n",
    "    \n",
    "    for area in areas_direita:\n",
    "        # Verifica se o cruzamento ocorreu em alguma das zonas\n",
    "        if x_bola > areas_direita[area]['X0'] and x_bola < areas_direita[area]['X1'] and y_bola > areas_direita[area]['Y0'] and y_bola < areas_direita[area]['Y1']:\n",
    "            areas_direita[area]['num'] += 1\n",
    "            cruzamentos += 1\n",
    "            frames_finais.append(frame_que_cruzou)\n",
    "            # Adiciona o jogador que cruzou a bola no dicionário\n",
    "            if jogador in jogadores_que_cruzaram:\n",
    "                jogadores_que_cruzaram[jogador].append(frame_que_cruzou)\n",
    "            else:\n",
    "                jogadores_que_cruzaram[jogador] = [frame_que_cruzou]\n",
    "            break\n",
    "\n",
    "# Resultados finais\n",
    "print(f'Número de cruzamentos encontrados no 1º tempo do Palmeiras foi: {cruzamentos}')\n",
    "print(f'Nos frames: {frames_finais}')\n",
    "print(f'Dicionário dos jogadores que cruzaram a bola, com os frames: {jogadores_que_cruzaram}')\n",
    "print(cruzamentos)\n"
   ]
  },
  {
   "cell_type": "code",
   "execution_count": null,
   "metadata": {},
   "outputs": [],
   "source": []
  },
  {
   "cell_type": "code",
   "execution_count": 282,
   "metadata": {},
   "outputs": [
    {
     "name": "stdout",
     "output_type": "stream",
     "text": [
      "{8183: ['Rony', 'Artur'], 14134: [], 15268: ['Dudu', 'Gabriel Menino'], 19341: ['Rony', 'Raphael Veiga', 'Dudu'], 19484: ['Artur', 'Rony', 'Raphael Veiga', 'Dudu'], 20358: ['Luan', 'Rony', 'Gustavo Gomez'], 22566: ['Dudu', 'Rony', 'Gustavo Gomez', 'Vanderlan'], 27600: ['Rony', 'Dudu', 'Mayke'], 29742: ['Rony', 'Vanderlan', 'Raphael Veiga'], 39832: ['Raphael Veiga', 'Rony'], 40628: ['Artur', 'Rony', 'Luan'], 48329: ['Vanderlan', 'Artur', 'Raphael Veiga', 'Rony'], 49309: ['Gustavo Gomez', 'Artur', 'Rony', 'Fabinho'], 49415: ['Gustavo Gomez', 'Fabinho', 'Rony', 'Artur'], 50545: ['Artur', 'Rony', 'Fabinho', 'Raphael Veiga'], 52088: ['Artur', 'Rony', 'Gustavo Gomez'], 52423: ['Rony', 'Luan', 'Gustavo Gomez'], 62186: ['Rony', 'Vanderlan'], 67040: ['Rony']}\n",
      "{8183: 2, 14134: 0, 15268: 2, 19341: 3, 19484: 4, 20358: 3, 22566: 4, 27600: 3, 29742: 3, 39832: 2, 40628: 3, 48329: 4, 49309: 4, 49415: 4, 50545: 4, 52088: 3, 52423: 3, 62186: 2, 67040: 1}\n"
     ]
    }
   ],
   "source": [
    "participacao_por_cruzamento_pal_nome = {}\n",
    "\n",
    "participacao_por_cruzamento_pal_quantidade = {}\n",
    "\n",
    "\n",
    "\n",
    "\n",
    "frames_cruzamento = [8183,14134,15268,19341,19484,20358,22566,27600,29742,39832,40628,48329,49309,49415,50545,52088,52423,62186,67040]\n",
    "for frame in frames_cruzamento:\n",
    "\n",
    "    df_bola = df_palmeiras_t1[(df_palmeiras_t1['OBJETO_OBSERVADO'] == 'bola') & (df_palmeiras_t1['FRAME'] == frame)]\n",
    "    x = df_bola['X'].iloc[0]\n",
    "    df_frame_jogadores = df_palmeiras_t1[(df_palmeiras_t1['FRAME'] >= frame ) & (df_palmeiras_t1['FRAME'] <= frame + 50) & (df_palmeiras_t1['OBJETO_OBSERVADO'] == 'jogador')]\n",
    "    area_direita = (df_frame_jogadores[\"X\"] > 101.5) & (df_frame_jogadores[\"Y\"] > 17.85) & (df_frame_jogadores[\"Y\"] < 58.15)\n",
    "\n",
    "    df_jogadores_area_direita = df_frame_jogadores[area_direita]\n",
    "\n",
    "    nomes_jogadores_area_direita = df_jogadores_area_direita['NOME_JOGADOR'].unique().tolist()\n",
    "    participacao_por_cruzamento_pal_nome[frame] = nomes_jogadores_area_direita\n",
    "    participacao_por_cruzamento_pal_quantidade[frame] = len(nomes_jogadores_area_direita)\n",
    "\n",
    "\n",
    "\n",
    "print(participacao_por_cruzamento_pal_nome)\n",
    "\n",
    "\n",
    "print(participacao_por_cruzamento_pal_quantidade)\n",
    "\n"
   ]
  },
  {
   "cell_type": "code",
   "execution_count": 283,
   "metadata": {},
   "outputs": [
    {
     "name": "stdout",
     "output_type": "stream",
     "text": [
      "{8183: ['Eduardo Santos', 'Natan', 'Jose Hurtado', 'Helinho'], 14134: [], 15268: ['Eduardo Santos', 'Jose Hurtado', 'Ramires', 'Matheus Fernandes'], 19341: ['Natan', 'Eduardo Santos', 'Jose Hurtado', 'Matheus Fernandes'], 19484: ['Ramires', 'Matheus Fernandes', 'Natan', 'Jose Hurtado', 'Eduardo Santos', 'Juninho Capixaba', 'Lucas Evangelista', 'Bruno'], 20358: ['Jose Hurtado', 'Eduardo Santos', 'Natan', 'Ramires'], 22566: ['Natan', 'Matheus Fernandes', 'Jose Hurtado', 'Juninho Capixaba', 'Eduardo Santos', 'Lucas Evangelista', 'Helinho', 'Eduardo Sasha', 'Ramires', 'Bruno'], 27600: ['Natan', 'Eduardo Santos', 'Jose Hurtado'], 29742: ['Juninho Capixaba', 'Natan', 'Jose Hurtado', 'Eduardo Santos', 'Matheus Fernandes', 'Lucas Evangelista'], 39832: ['Matheus Fernandes', 'Juninho Capixaba', 'Jose Hurtado', 'Natan', 'Eduardo Santos'], 40628: ['Matheus Fernandes', 'Natan', 'Bruno', 'Juninho Capixaba', 'Eduardo Sasha', 'Helinho', 'Jose Hurtado', 'Eduardo Santos'], 48329: ['Matheus Fernandes', 'Eduardo Santos', 'Natan', 'Lucas Evangelista', 'Jose Hurtado', 'Bruno', 'Helinho'], 49309: ['Matheus Fernandes', 'Bruno', 'Juninho Capixaba', 'Helinho', 'Jose Hurtado', 'Natan', 'Ramires', 'Eduardo Santos', 'Lucas Evangelista'], 49415: ['Matheus Fernandes', 'Eduardo Santos', 'Jose Hurtado', 'Ramires', 'Natan'], 50545: ['Natan', 'Eduardo Santos', 'Jose Hurtado', 'Helinho'], 52088: ['Jose Hurtado', 'Juninho Capixaba', 'Lucas Evangelista', 'Natan', 'Eduardo Sasha', 'Eduardo Santos', 'Matheus Fernandes', 'Ramires'], 52423: ['Matheus Fernandes', 'Lucas Evangelista', 'Eduardo Santos', 'Natan', 'Helinho', 'Juninho Capixaba'], 62186: ['Eduardo Santos', 'Natan', 'Jose Hurtado', 'Juninho Capixaba'], 67040: ['Natan', 'Eduardo Santos', 'Jose Hurtado', 'Juninho Capixaba']}\n",
      "{8183: 4, 14134: 0, 15268: 4, 19341: 4, 19484: 8, 20358: 4, 22566: 10, 27600: 3, 29742: 6, 39832: 5, 40628: 8, 48329: 7, 49309: 9, 49415: 5, 50545: 4, 52088: 8, 52423: 6, 62186: 4, 67040: 4}\n"
     ]
    }
   ],
   "source": [
    "participacao_por_cruzamento_red_nome = {}\n",
    "\n",
    "participacao_por_cruzamento_red_quantidade = {}\n",
    "\n",
    "\n",
    "frames_cruzamento = [8183,14134,15268,19341,19484,20358,22566,27600,29742,39832,40628,48329,49309,49415,50545,52088,52423,62186,67040]\n",
    "for frame in frames_cruzamento:\n",
    "\n",
    "    df_bola = df_bragantino_t1[(df_bragantino_t1['OBJETO_OBSERVADO'] == 'bola') & (df_bragantino_t1['FRAME'] == frame)]\n",
    "    x = df_bola['X'].iloc[0]\n",
    "    df_frame_jogadores_bragantino = df_bragantino_t1[(df_bragantino_t1['FRAME'] >= frame ) & (df_bragantino_t1['FRAME'] <= frame + 50) & (df_bragantino_t1['OBJETO_OBSERVADO'] == 'jogador')]\n",
    "    area_direita = (df_frame_jogadores_bragantino[\"X\"] > 101.5) & (df_frame_jogadores_bragantino[\"Y\"] > 17.85) & (df_frame_jogadores_bragantino[\"Y\"] < 58.15) & (df_frame_jogadores_bragantino[\"POSICAO_JOGADOR\"] != \"Goleiro\")\n",
    "\n",
    "    df_jogadores_area_direita_bragantino = df_frame_jogadores_bragantino[area_direita]\n",
    "\n",
    "    nomes_jogadores_area_direita_bragantino = df_jogadores_area_direita_bragantino['NOME_JOGADOR'].unique().tolist()\n",
    "    participacao_por_cruzamento_red_nome[frame] = nomes_jogadores_area_direita_bragantino\n",
    "    participacao_por_cruzamento_red_quantidade[frame] = len(nomes_jogadores_area_direita_bragantino)\n",
    "\n",
    "print(participacao_por_cruzamento_red_nome)\n",
    "print(participacao_por_cruzamento_red_quantidade)"
   ]
  },
  {
   "cell_type": "code",
   "execution_count": 284,
   "metadata": {},
   "outputs": [],
   "source": [
    "correspondencia_nome_num_pal = {\n",
    "'Weverton': 21,\n",
    "'Mayke': 12,\n",
    "'Gustavo Gomez': 15,\n",
    "'Luan': 13,\n",
    "'Vanderlan': 6,\n",
    "'Fabinho': 35,\n",
    "'Richard Ríos': 27,\n",
    "'Gabriel Menino': 25,\n",
    "'Raphael Veiga': 23,\n",
    "'Flaco López': 18,\n",
    "'Artur': 14,\n",
    "'Bruno Tabata': 11,\n",
    "'Rony': 10,\n",
    "'Endrick': 9,\n",
    "'Dudu': 7,\n",
    "'Breno Lopez': 19,\n",
    "'Marcelo Lomba': 42,\n",
    "'Gustavo Garcia': 32,\n",
    "'Naves': 34,\n",
    "'Jailson': 30,\n",
    "'Luis Guilherme': 31,\n",
    "'Jhon Jhon': 40,\n",
    "'Rafael Navarro': 29\n",
    "}\n",
    "\n",
    "correspondencia_nome_num_red = {\n",
    "'Lucão': 40,\n",
    "'Luan Patrick': 30,\n",
    "'Guilherme Lopes': 31,\n",
    "'Gustavinho': 22,\n",
    "'Praxedes': 25,\n",
    "'Sorriso': 27,\n",
    "'Everton': 42,\n",
    "'Cleiton Schwengber': 1,\n",
    "'Jose Hurtado': 34,\n",
    "'Aderlan': 13,\n",
    "'Eduardo Santos': 26,\n",
    "'Natan': 4,\n",
    "'Realpe': 2,\n",
    "'Juninho Capixaba': 29,\n",
    "'Matheus Fernandes': 35,\n",
    "'Ramires': 7,\n",
    "'Lucas Evangelista': 8,\n",
    "'Alerrandro': 9,\n",
    "'Bruno': 17,\n",
    "'Vitinho': 28,\n",
    "'Eduardo Sasha': 19,\n",
    "'Helinho': 11,\n",
    "'Henry Mosquera': 16\n",
    "}\n",
    "\n"
   ]
  },
  {
   "cell_type": "code",
   "execution_count": 285,
   "metadata": {},
   "outputs": [
    {
     "name": "stdout",
     "output_type": "stream",
     "text": [
      "{8183: [10, 14], 14134: [], 15268: [7, 25], 19341: [10, 23, 7], 19484: [14, 10, 23, 7], 20358: [13, 10, 15], 22566: [7, 10, 15, 6], 27600: [10, 7, 12], 29742: [10, 6, 23], 39832: [23, 10], 40628: [14, 10, 13], 48329: [6, 14, 23, 10], 49309: [15, 14, 10, 35], 49415: [15, 35, 10, 14], 50545: [14, 10, 35, 23], 52088: [14, 10, 15], 52423: [10, 13, 15], 62186: [10, 6], 67040: [10]}\n"
     ]
    }
   ],
   "source": [
    "participacao_por_cruzamento_numeros_pal = {}\n",
    "\n",
    "for frame, jogadores in participacao_por_cruzamento_pal_nome.items():\n",
    "    \n",
    "    numeros_jogadores = [correspondencia_nome_num_pal.get(nome, nome) for nome in jogadores]\n",
    "\n",
    "    participacao_por_cruzamento_numeros_pal[frame] = numeros_jogadores\n",
    "\n",
    "print(participacao_por_cruzamento_numeros_pal)"
   ]
  },
  {
   "cell_type": "code",
   "execution_count": 286,
   "metadata": {},
   "outputs": [
    {
     "name": "stdout",
     "output_type": "stream",
     "text": [
      "{8183: [26, 4, 34, 11], 14134: [], 15268: [26, 34, 7, 35], 19341: [4, 26, 34, 35], 19484: [7, 35, 4, 34, 26, 29, 8, 17], 20358: [34, 26, 4, 7], 22566: [4, 35, 34, 29, 26, 8, 11, 19, 7, 17], 27600: [4, 26, 34], 29742: [29, 4, 34, 26, 35, 8], 39832: [35, 29, 34, 4, 26], 40628: [35, 4, 17, 29, 19, 11, 34, 26], 48329: [35, 26, 4, 8, 34, 17, 11], 49309: [35, 17, 29, 11, 34, 4, 7, 26, 8], 49415: [35, 26, 34, 7, 4], 50545: [4, 26, 34, 11], 52088: [34, 29, 8, 4, 19, 26, 35, 7], 52423: [35, 8, 26, 4, 11, 29], 62186: [26, 4, 34, 29], 67040: [4, 26, 34, 29]}\n"
     ]
    }
   ],
   "source": [
    "participacao_por_cruzamento_numeros_red = {}\n",
    "\n",
    "for frame, jogadores in participacao_por_cruzamento_red_nome.items():\n",
    "    \n",
    "    numeros_jogadores = [correspondencia_nome_num_red.get(nome, nome) for nome in jogadores]\n",
    "\n",
    "    participacao_por_cruzamento_numeros_red[frame] = numeros_jogadores\n",
    "\n",
    "print(participacao_por_cruzamento_numeros_red)"
   ]
  },
  {
   "cell_type": "code",
   "execution_count": 294,
   "metadata": {},
   "outputs": [
    {
     "name": "stdout",
     "output_type": "stream",
     "text": [
      "{'Rony': 17, 'Artur': 8, 'Dudu': 5, 'Gabriel Menino': 1, 'Raphael Veiga': 6, 'Luan': 3, 'Gustavo Gomez': 6, 'Vanderlan': 4, 'Mayke': 1, 'Fabinho': 3}\n",
      "{'Eduardo Santos': 18, 'Natan': 17, 'Jose Hurtado': 17, 'Helinho': 7, 'Ramires': 7, 'Matheus Fernandes': 12, 'Juninho Capixaba': 10, 'Lucas Evangelista': 7, 'Bruno': 5, 'Eduardo Sasha': 3}\n"
     ]
    }
   ],
   "source": [
    "def contar_aparicoes_jogadores(dicionario):\n",
    "    contagem_jogadores = {}\n",
    "\n",
    "    for jogadores in dicionario.values():\n",
    "        for jogador in jogadores:\n",
    "            contagem_jogadores[jogador] = contagem_jogadores.get(jogador, 0) + 1\n",
    "\n",
    "    return contagem_jogadores\n",
    "\n",
    "print(contar_aparicoes_jogadores(participacao_por_cruzamento_pal_nome))\n",
    "\n",
    "print(contar_aparicoes_jogadores(participacao_por_cruzamento_red_nome))\n",
    "\n"
   ]
  },
  {
   "cell_type": "code",
   "execution_count": null,
   "metadata": {},
   "outputs": [],
   "source": [
    "# Desfecho dos cruzamentos (Bem-Sucessido, Bloqueado, Perdido)\n",
    "\n",
    "velocidade_pico = 0\n",
    "frames_e_frames_velocidade_pico = {}\n",
    "\n",
    "# Analisar os frames para encontrar velocidade pico\n",
    "for frame in frames_finais:\n",
    "    df_frame_bola = df_palmeiras_t1[(df_palmeiras_t1['FRAME'] >= frame) & (df_palmeiras_t1['FRAME'] <= frame + 100) & (df_palmeiras_t1['OBJETO_OBSERVADO'] == 'bola')]\n",
    "    df_frame_bola = df_frame_bola.reset_index(drop=True)\n",
    "\n",
    "    for index, row in df_frame_bola.iterrows():\n",
    "        if index + 1 == len(df_frame_bola):\n",
    "            break  # Verifica se é o último frame\n",
    "\n",
    "        velocidade_atual_registrada = row['VELOCIDADE']\n",
    "        if df_frame_bola.iloc[index + 1]['VELOCIDADE'] - velocidade_atual_registrada > 2:\n",
    "            velocidade_pico = df_frame_bola.iloc[index + 1]['VELOCIDADE']\n",
    "            frames_e_frames_velocidade_pico[frame] = df_frame_bola.iloc[index + 1]['FRAME']\n",
    "            break\n",
    "\n",
    "print(\"Frames com velocidade pico:\", frames_e_frames_velocidade_pico)\n",
    "\n",
    "df_t1 = df[df['TEMPO_JOGO'] == 1]\n",
    "\n",
    "# Verifica se o cruzamento foi bem-sucedido, bloqueado ou perdido\n",
    "desfecho_cruzamentos = {}\n",
    "\n",
    "for frame, frame_velocidade_pico in frames_e_frames_velocidade_pico.items():\n",
    "    df_frame_bola = df_t1[(df_t1['FRAME'] == frame_velocidade_pico) & (df_t1['OBJETO_OBSERVADO'] == 'bola')]\n",
    "    df_frame_jogadores = df_t1[(df_t1['FRAME'] == frame_velocidade_pico) & (df_t1['OBJETO_OBSERVADO'] == 'jogador')]\n",
    "\n",
    "    if not df_frame_bola.empty and not df_frame_jogadores.empty:\n",
    "        pos_bola = [df_frame_bola.iloc[0]['X'], df_frame_bola.iloc[0]['Y']]\n",
    "\n",
    "        for index, row in df_frame_jogadores.iterrows():\n",
    "            pos_jogador = [row['X'], row['Y']]\n",
    "            distancia_medida = math.dist(pos_jogador, pos_bola)\n",
    "\n",
    "            if distancia_medida < 1.5:\n",
    "                if row['TIME_JOGADOR'] == 'PAL':\n",
    "                    desfecho_cruzamentos[frame] = 'Bem-Sucedido'\n",
    "                elif row['TIME_JOGADOR'] == 'RED':\n",
    "                    desfecho_cruzamentos[frame] = 'Bloqueado'\n",
    "                break\n",
    "        else:  # Ninguém encostou na bola\n",
    "            desfecho_cruzamentos[frame] = 'Perdido'\n",
    "    else:\n",
    "        desfecho_cruzamentos[frame] = 'Perdido'  # Se não há dados disponíveis para o frame, consideramos como perdido\n",
    "\n",
    "for frame in frames_finais:\n",
    "    if frame not in desfecho_cruzamentos:\n",
    "        desfecho_cruzamentos[frame] = 'Perdido'\n",
    "\n",
    "desfecho_cruzamentos = dict(sorted(desfecho_cruzamentos.items())) # Ordena o dicionário por ordem crescente de frames\n",
    "\n",
    "print(\"Desfecho final dos cruzamentos:\", desfecho_cruzamentos)"
   ]
  }
 ],
 "metadata": {
  "kernelspec": {
   "display_name": "Python 3",
   "language": "python",
   "name": "python3"
  },
  "language_info": {
   "codemirror_mode": {
    "name": "ipython",
    "version": 3
   },
   "file_extension": ".py",
   "mimetype": "text/x-python",
   "name": "python",
   "nbconvert_exporter": "python",
   "pygments_lexer": "ipython3",
   "version": "3.10.10"
  }
 },
 "nbformat": 4,
 "nbformat_minor": 2
}

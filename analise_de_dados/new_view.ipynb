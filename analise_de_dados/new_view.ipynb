{
 "cells": [
  {
   "cell_type": "markdown",
   "metadata": {},
   "source": [
    "Teste para achar jogador que cruzou"
   ]
  },
  {
   "cell_type": "code",
<<<<<<< HEAD:new_view.ipynb
   "execution_count": 213,
=======
<<<<<<< HEAD:new_view.ipynb
   "execution_count": 1352,
=======
   "execution_count": 25,
>>>>>>> ca52db1054efff4fbed53a1a10445c183b70181a:analise_de_dados/new_view.ipynb
>>>>>>> e6e65992e518ec04c76473ae2521fc5dca1debbb:analise_de_dados/new_view.ipynb
   "metadata": {},
   "outputs": [],
   "source": [
    "import pandas as pd\n",
    "import scipy.stats as st\n",
    "import numpy as np\n",
    "import matplotlib.pyplot as plt\n",
    "import math"
   ]
  },
  {
   "cell_type": "code",
<<<<<<< HEAD:new_view.ipynb
   "execution_count": 214,
=======
<<<<<<< HEAD:new_view.ipynb
   "execution_count": 1353,
=======
   "execution_count": 26,
>>>>>>> ca52db1054efff4fbed53a1a10445c183b70181a:analise_de_dados/new_view.ipynb
>>>>>>> e6e65992e518ec04c76473ae2521fc5dca1debbb:analise_de_dados/new_view.ipynb
   "metadata": {},
   "outputs": [],
   "source": [
    "# Leitura do arquivo csv\n",
    "df = pd.read_csv('dados/dados_brutos.csv')"
   ]
  },
  {
   "cell_type": "code",
<<<<<<< HEAD:new_view.ipynb
   "execution_count": 215,
=======
<<<<<<< HEAD:new_view.ipynb
   "execution_count": 1354,
=======
   "execution_count": 27,
>>>>>>> ca52db1054efff4fbed53a1a10445c183b70181a:analise_de_dados/new_view.ipynb
>>>>>>> e6e65992e518ec04c76473ae2521fc5dca1debbb:analise_de_dados/new_view.ipynb
   "metadata": {},
   "outputs": [],
   "source": [
    "# Organizar dados por frame e time do jogador\n",
    "df = df.sort_values(by=['FRAME', 'TIME_JOGADOR'])"
   ]
  },
  {
   "cell_type": "code",
<<<<<<< HEAD:new_view.ipynb
   "execution_count": 216,
=======
<<<<<<< HEAD:new_view.ipynb
   "execution_count": 1355,
=======
   "execution_count": 28,
>>>>>>> ca52db1054efff4fbed53a1a10445c183b70181a:analise_de_dados/new_view.ipynb
>>>>>>> e6e65992e518ec04c76473ae2521fc5dca1debbb:analise_de_dados/new_view.ipynb
   "metadata": {},
   "outputs": [
    {
     "data": {
      "text/plain": [
       "Index(['TEMPO_JOGO', 'FRAME', 'ID_JOGADOR', 'NOME_JOGADOR', 'POSICAO_JOGADOR',\n",
       "       'TIME_JOGADOR', 'OBJETO_OBSERVADO', 'X', 'Y', 'Z', 'VELOCIDADE',\n",
       "       'TIME_POSSE'],\n",
       "      dtype='object')"
      ]
     },
<<<<<<< HEAD:new_view.ipynb
     "execution_count": 216,
=======
<<<<<<< HEAD:new_view.ipynb
     "execution_count": 1355,
=======
     "execution_count": 28,
>>>>>>> ca52db1054efff4fbed53a1a10445c183b70181a:analise_de_dados/new_view.ipynb
>>>>>>> e6e65992e518ec04c76473ae2521fc5dca1debbb:analise_de_dados/new_view.ipynb
     "metadata": {},
     "output_type": "execute_result"
    }
   ],
   "source": [
    "# Colunas do dataframe\n",
    "df.columns"
   ]
  },
  {
   "cell_type": "code",
<<<<<<< HEAD:new_view.ipynb
   "execution_count": 217,
=======
<<<<<<< HEAD:new_view.ipynb
   "execution_count": 1356,
=======
   "execution_count": 29,
>>>>>>> ca52db1054efff4fbed53a1a10445c183b70181a:analise_de_dados/new_view.ipynb
>>>>>>> e6e65992e518ec04c76473ae2521fc5dca1debbb:analise_de_dados/new_view.ipynb
   "metadata": {},
   "outputs": [
    {
     "name": "stderr",
     "output_type": "stream",
     "text": [
<<<<<<< HEAD:new_view.ipynb
      "C:\\Users\\henri\\AppData\\Local\\Temp\\ipykernel_15596\\4292862974.py:3: SettingWithCopyWarning: \n",
=======
<<<<<<< HEAD:new_view.ipynb
      "C:\\Users\\Daniel\\AppData\\Local\\Temp\\ipykernel_9348\\4292862974.py:3: SettingWithCopyWarning: \n",
=======
      "C:\\Users\\henri\\AppData\\Local\\Temp\\ipykernel_30544\\4292862974.py:3: SettingWithCopyWarning: \n",
>>>>>>> ca52db1054efff4fbed53a1a10445c183b70181a:analise_de_dados/new_view.ipynb
>>>>>>> e6e65992e518ec04c76473ae2521fc5dca1debbb:analise_de_dados/new_view.ipynb
      "A value is trying to be set on a copy of a slice from a DataFrame.\n",
      "Try using .loc[row_indexer,col_indexer] = value instead\n",
      "\n",
      "See the caveats in the documentation: https://pandas.pydata.org/pandas-docs/stable/user_guide/indexing.html#returning-a-view-versus-a-copy\n",
      "  df_bola[\"DENTRO_AREA_DIREITA\"] = 0\n",
<<<<<<< HEAD:new_view.ipynb
      "C:\\Users\\henri\\AppData\\Local\\Temp\\ipykernel_15596\\4292862974.py:4: SettingWithCopyWarning: \n",
=======
<<<<<<< HEAD:new_view.ipynb
      "C:\\Users\\Daniel\\AppData\\Local\\Temp\\ipykernel_9348\\4292862974.py:4: SettingWithCopyWarning: \n",
=======
      "C:\\Users\\henri\\AppData\\Local\\Temp\\ipykernel_30544\\4292862974.py:4: SettingWithCopyWarning: \n",
>>>>>>> ca52db1054efff4fbed53a1a10445c183b70181a:analise_de_dados/new_view.ipynb
>>>>>>> e6e65992e518ec04c76473ae2521fc5dca1debbb:analise_de_dados/new_view.ipynb
      "A value is trying to be set on a copy of a slice from a DataFrame.\n",
      "Try using .loc[row_indexer,col_indexer] = value instead\n",
      "\n",
      "See the caveats in the documentation: https://pandas.pydata.org/pandas-docs/stable/user_guide/indexing.html#returning-a-view-versus-a-copy\n",
      "  df_bola[\"DENTRO_AREA_ESQUERDA\"] = 0\n"
     ]
    }
   ],
   "source": [
    "df_bola = df[df['OBJETO_OBSERVADO'] == 'bola']\n",
    "\n",
    "df_bola[\"DENTRO_AREA_DIREITA\"] = 0\n",
    "df_bola[\"DENTRO_AREA_ESQUERDA\"] = 0\n",
    "\n",
    "area_direita = (df_bola[\"X\"] > 101.5) & (df_bola[\"Y\"] > 17.85) & (df_bola[\"Y\"] < 58.15)\n",
    "df_bola.loc[area_direita, \"DENTRO_AREA_DIREITA\"] = 1\n",
    "\n",
    "area_esquerda = (df_bola[\"X\"] < 16.5) & (df_bola[\"Y\"] > 17.85) & (df_bola[\"Y\"] < 58.15)\n",
    "df_bola.loc[area_esquerda, \"DENTRO_AREA_ESQUERDA\"] = 1"
   ]
  },
  {
   "cell_type": "code",
<<<<<<< HEAD:new_view.ipynb
   "execution_count": 218,
=======
<<<<<<< HEAD:new_view.ipynb
   "execution_count": 1357,
=======
   "execution_count": 30,
>>>>>>> ca52db1054efff4fbed53a1a10445c183b70181a:analise_de_dados/new_view.ipynb
>>>>>>> e6e65992e518ec04c76473ae2521fc5dca1debbb:analise_de_dados/new_view.ipynb
   "metadata": {},
   "outputs": [
    {
     "data": {
      "text/html": [
       "<div>\n",
       "<style scoped>\n",
       "    .dataframe tbody tr th:only-of-type {\n",
       "        vertical-align: middle;\n",
       "    }\n",
       "\n",
       "    .dataframe tbody tr th {\n",
       "        vertical-align: top;\n",
       "    }\n",
       "\n",
       "    .dataframe thead th {\n",
       "        text-align: right;\n",
       "    }\n",
       "</style>\n",
       "<table border=\"1\" class=\"dataframe\">\n",
       "  <thead>\n",
       "    <tr style=\"text-align: right;\">\n",
       "      <th></th>\n",
       "      <th>TEMPO_JOGO</th>\n",
       "      <th>FRAME</th>\n",
       "      <th>ID_JOGADOR</th>\n",
       "      <th>NOME_JOGADOR</th>\n",
       "      <th>POSICAO_JOGADOR</th>\n",
       "      <th>TIME_JOGADOR</th>\n",
       "      <th>OBJETO_OBSERVADO</th>\n",
       "      <th>X</th>\n",
       "      <th>Y</th>\n",
       "      <th>Z</th>\n",
       "      <th>VELOCIDADE</th>\n",
       "      <th>TIME_POSSE</th>\n",
       "      <th>DENTRO_AREA_DIREITA</th>\n",
       "      <th>DENTRO_AREA_ESQUERDA</th>\n",
       "    </tr>\n",
       "  </thead>\n",
       "  <tbody>\n",
       "    <tr>\n",
       "      <th>0</th>\n",
       "      <td>1</td>\n",
       "      <td>0</td>\n",
       "      <td>NaN</td>\n",
       "      <td>NaN</td>\n",
       "      <td>NaN</td>\n",
       "      <td>NaN</td>\n",
       "      <td>bola</td>\n",
       "      <td>59.12</td>\n",
       "      <td>38.29</td>\n",
       "      <td>0.0</td>\n",
       "      <td>41.19</td>\n",
       "      <td>PAL</td>\n",
       "      <td>0</td>\n",
       "      <td>0</td>\n",
       "    </tr>\n",
       "    <tr>\n",
       "      <th>1</th>\n",
       "      <td>1</td>\n",
       "      <td>1</td>\n",
       "      <td>NaN</td>\n",
       "      <td>NaN</td>\n",
       "      <td>NaN</td>\n",
       "      <td>NaN</td>\n",
       "      <td>bola</td>\n",
       "      <td>59.31</td>\n",
       "      <td>39.28</td>\n",
       "      <td>0.0</td>\n",
       "      <td>41.68</td>\n",
       "      <td>PAL</td>\n",
       "      <td>0</td>\n",
       "      <td>0</td>\n",
       "    </tr>\n",
       "    <tr>\n",
       "      <th>2</th>\n",
       "      <td>1</td>\n",
       "      <td>2</td>\n",
       "      <td>NaN</td>\n",
       "      <td>NaN</td>\n",
       "      <td>NaN</td>\n",
       "      <td>NaN</td>\n",
       "      <td>bola</td>\n",
       "      <td>57.81</td>\n",
       "      <td>39.13</td>\n",
       "      <td>0.0</td>\n",
       "      <td>40.98</td>\n",
       "      <td>PAL</td>\n",
       "      <td>0</td>\n",
       "      <td>0</td>\n",
       "    </tr>\n",
       "    <tr>\n",
       "      <th>3</th>\n",
       "      <td>1</td>\n",
       "      <td>3</td>\n",
       "      <td>NaN</td>\n",
       "      <td>NaN</td>\n",
       "      <td>NaN</td>\n",
       "      <td>NaN</td>\n",
       "      <td>bola</td>\n",
       "      <td>57.02</td>\n",
       "      <td>39.45</td>\n",
       "      <td>0.0</td>\n",
       "      <td>40.77</td>\n",
       "      <td>PAL</td>\n",
       "      <td>0</td>\n",
       "      <td>0</td>\n",
       "    </tr>\n",
       "    <tr>\n",
       "      <th>4</th>\n",
       "      <td>1</td>\n",
       "      <td>4</td>\n",
       "      <td>NaN</td>\n",
       "      <td>NaN</td>\n",
       "      <td>NaN</td>\n",
       "      <td>NaN</td>\n",
       "      <td>bola</td>\n",
       "      <td>57.91</td>\n",
       "      <td>40.94</td>\n",
       "      <td>0.0</td>\n",
       "      <td>41.77</td>\n",
       "      <td>PAL</td>\n",
       "      <td>0</td>\n",
       "      <td>0</td>\n",
       "    </tr>\n",
       "    <tr>\n",
       "      <th>...</th>\n",
       "      <td>...</td>\n",
       "      <td>...</td>\n",
       "      <td>...</td>\n",
       "      <td>...</td>\n",
       "      <td>...</td>\n",
       "      <td>...</td>\n",
       "      <td>...</td>\n",
       "      <td>...</td>\n",
       "      <td>...</td>\n",
       "      <td>...</td>\n",
       "      <td>...</td>\n",
       "      <td>...</td>\n",
       "      <td>...</td>\n",
       "      <td>...</td>\n",
       "    </tr>\n",
       "    <tr>\n",
       "      <th>146677</th>\n",
       "      <td>2</td>\n",
       "      <td>76213</td>\n",
       "      <td>NaN</td>\n",
       "      <td>NaN</td>\n",
       "      <td>NaN</td>\n",
       "      <td>NaN</td>\n",
       "      <td>bola</td>\n",
       "      <td>67.96</td>\n",
       "      <td>36.98</td>\n",
       "      <td>0.0</td>\n",
       "      <td>0.00</td>\n",
       "      <td>PAL</td>\n",
       "      <td>0</td>\n",
       "      <td>0</td>\n",
       "    </tr>\n",
       "    <tr>\n",
       "      <th>146678</th>\n",
       "      <td>2</td>\n",
       "      <td>76214</td>\n",
       "      <td>NaN</td>\n",
       "      <td>NaN</td>\n",
       "      <td>NaN</td>\n",
       "      <td>NaN</td>\n",
       "      <td>bola</td>\n",
       "      <td>66.96</td>\n",
       "      <td>36.44</td>\n",
       "      <td>0.0</td>\n",
       "      <td>0.00</td>\n",
       "      <td>PAL</td>\n",
       "      <td>0</td>\n",
       "      <td>0</td>\n",
       "    </tr>\n",
       "    <tr>\n",
       "      <th>146679</th>\n",
       "      <td>2</td>\n",
       "      <td>76215</td>\n",
       "      <td>NaN</td>\n",
       "      <td>NaN</td>\n",
       "      <td>NaN</td>\n",
       "      <td>NaN</td>\n",
       "      <td>bola</td>\n",
       "      <td>66.95</td>\n",
       "      <td>36.43</td>\n",
       "      <td>0.0</td>\n",
       "      <td>0.00</td>\n",
       "      <td>PAL</td>\n",
       "      <td>0</td>\n",
       "      <td>0</td>\n",
       "    </tr>\n",
       "    <tr>\n",
       "      <th>146680</th>\n",
       "      <td>2</td>\n",
       "      <td>76216</td>\n",
       "      <td>NaN</td>\n",
       "      <td>NaN</td>\n",
       "      <td>NaN</td>\n",
       "      <td>NaN</td>\n",
       "      <td>bola</td>\n",
       "      <td>66.53</td>\n",
       "      <td>36.20</td>\n",
       "      <td>0.0</td>\n",
       "      <td>0.00</td>\n",
       "      <td>PAL</td>\n",
       "      <td>0</td>\n",
       "      <td>0</td>\n",
       "    </tr>\n",
       "    <tr>\n",
       "      <th>146681</th>\n",
       "      <td>2</td>\n",
       "      <td>76217</td>\n",
       "      <td>NaN</td>\n",
       "      <td>NaN</td>\n",
       "      <td>NaN</td>\n",
       "      <td>NaN</td>\n",
       "      <td>bola</td>\n",
       "      <td>66.85</td>\n",
       "      <td>36.37</td>\n",
       "      <td>0.0</td>\n",
       "      <td>0.00</td>\n",
       "      <td>PAL</td>\n",
       "      <td>0</td>\n",
       "      <td>0</td>\n",
       "    </tr>\n",
       "  </tbody>\n",
       "</table>\n",
       "<p>146682 rows × 14 columns</p>\n",
       "</div>"
      ],
      "text/plain": [
       "        TEMPO_JOGO  FRAME  ID_JOGADOR NOME_JOGADOR POSICAO_JOGADOR  \\\n",
       "0                1      0         NaN          NaN             NaN   \n",
       "1                1      1         NaN          NaN             NaN   \n",
       "2                1      2         NaN          NaN             NaN   \n",
       "3                1      3         NaN          NaN             NaN   \n",
       "4                1      4         NaN          NaN             NaN   \n",
       "...            ...    ...         ...          ...             ...   \n",
       "146677           2  76213         NaN          NaN             NaN   \n",
       "146678           2  76214         NaN          NaN             NaN   \n",
       "146679           2  76215         NaN          NaN             NaN   \n",
       "146680           2  76216         NaN          NaN             NaN   \n",
       "146681           2  76217         NaN          NaN             NaN   \n",
       "\n",
       "       TIME_JOGADOR OBJETO_OBSERVADO      X      Y    Z  VELOCIDADE  \\\n",
       "0               NaN             bola  59.12  38.29  0.0       41.19   \n",
       "1               NaN             bola  59.31  39.28  0.0       41.68   \n",
       "2               NaN             bola  57.81  39.13  0.0       40.98   \n",
       "3               NaN             bola  57.02  39.45  0.0       40.77   \n",
       "4               NaN             bola  57.91  40.94  0.0       41.77   \n",
       "...             ...              ...    ...    ...  ...         ...   \n",
       "146677          NaN             bola  67.96  36.98  0.0        0.00   \n",
       "146678          NaN             bola  66.96  36.44  0.0        0.00   \n",
       "146679          NaN             bola  66.95  36.43  0.0        0.00   \n",
       "146680          NaN             bola  66.53  36.20  0.0        0.00   \n",
       "146681          NaN             bola  66.85  36.37  0.0        0.00   \n",
       "\n",
       "       TIME_POSSE  DENTRO_AREA_DIREITA  DENTRO_AREA_ESQUERDA  \n",
       "0             PAL                    0                     0  \n",
       "1             PAL                    0                     0  \n",
       "2             PAL                    0                     0  \n",
       "3             PAL                    0                     0  \n",
       "4             PAL                    0                     0  \n",
       "...           ...                  ...                   ...  \n",
       "146677        PAL                    0                     0  \n",
       "146678        PAL                    0                     0  \n",
       "146679        PAL                    0                     0  \n",
       "146680        PAL                    0                     0  \n",
       "146681        PAL                    0                     0  \n",
       "\n",
       "[146682 rows x 14 columns]"
      ]
     },
<<<<<<< HEAD:new_view.ipynb
     "execution_count": 218,
=======
<<<<<<< HEAD:new_view.ipynb
     "execution_count": 1357,
=======
     "execution_count": 30,
>>>>>>> ca52db1054efff4fbed53a1a10445c183b70181a:analise_de_dados/new_view.ipynb
>>>>>>> e6e65992e518ec04c76473ae2521fc5dca1debbb:analise_de_dados/new_view.ipynb
     "metadata": {},
     "output_type": "execute_result"
    }
   ],
   "source": [
    "df_bola = df_bola.sort_values(by=['TEMPO_JOGO', 'FRAME'])\n",
    "df_bola.reset_index(drop=True, inplace=True)\n",
    "df_bola"
   ]
  },
  {
   "cell_type": "code",
<<<<<<< HEAD:new_view.ipynb
   "execution_count": 219,
=======
<<<<<<< HEAD:new_view.ipynb
   "execution_count": 1358,
=======
   "execution_count": 31,
>>>>>>> ca52db1054efff4fbed53a1a10445c183b70181a:analise_de_dados/new_view.ipynb
>>>>>>> e6e65992e518ec04c76473ae2521fc5dca1debbb:analise_de_dados/new_view.ipynb
   "metadata": {},
   "outputs": [],
   "source": [
    "# Palmeiras atacando a área direita\n",
    "\n",
    "df_pal_ataque_direita = df_bola[\n",
    "    (df_bola['TIME_POSSE'] == 'PAL') & \n",
    "    (df_bola['VELOCIDADE'] >= 1.5) & \n",
    "    (df_bola['TEMPO_JOGO'] == 1) & \n",
    "    (df_bola['X'] < 118) & \n",
    "    (df_bola['X'] >= 86.5) & \n",
    "    (df_bola['Y'] < 76)\n",
    "]\n",
    "\n",
    "df_pal_ataque_direita.reset_index(drop=True, inplace=True)\n",
    "\n",
    "areas_direita = {\n",
    "    'E1.2':{\n",
    "        'X0': 86.5,\n",
    "        'X1': 101.5,\n",
    "        'Y0': 1.5,\n",
    "        'Y1': 17.85,\n",
    "        'num': 0\n",
    "    },\n",
    "    'E1.1':{\n",
    "        'X0': 86.5,\n",
    "        'X1': 101.5,\n",
    "        'Y0': 17.85,\n",
    "        'Y1': 38,\n",
    "        'num': 0\n",
    "    },\n",
    "    'E2.1':{\n",
    "        'X0': 101.5,\n",
    "        'X1': 109.75,\n",
    "        'Y0': 1.5,\n",
    "        'Y1': 17.85,\n",
    "        'num': 0\n",
    "    },\n",
    "    'E2.2':{\n",
    "        'X0': 109.75,\n",
    "        'X1': 118,\n",
    "        'Y0': 1.5,\n",
    "        'Y1': 17.85,\n",
    "        'num': 0\n",
    "    },\n",
    "    'E3':{\n",
    "        'X0': 101.5,\n",
    "        'X1': 109.75,\n",
    "        'Y0': 17.85,\n",
    "        'Y1': 27.92,\n",
    "        'num': 0\n",
    "    },\n",
    "    'D1.1':{\n",
    "        'X0': 86.5,\n",
    "        'X1': 101.5,\n",
    "        'Y0': 38,\n",
    "        'Y1': 58.15,\n",
    "        'num': 0\n",
    "    },\n",
    "    'D1.2':{\n",
    "        'X0': 86.5,\n",
    "        'X1': 101.5,\n",
    "        'Y0': 58.15,\n",
    "        'Y1': 74.5,\n",
    "        'num': 0\n",
    "    },\n",
    "    'D2.1':{\n",
    "        'X0': 101.5,\n",
    "        'X1': 109.75,\n",
    "        'Y0': 58.15,\n",
    "        'Y1': 74.5,\n",
    "        'num': 0\n",
    "    },\n",
    "    'D2.2':{\n",
    "        'X0': 109.75,\n",
    "        'X1': 118,\n",
    "        'Y0': 58.15,\n",
    "        'Y1': 74.5,\n",
    "        'num': 0\n",
    "    },\n",
    "    'D3':{\n",
    "        'X0': 101.5,\n",
    "        'X1': 109.75,\n",
    "        'Y0': 48.07,\n",
    "        'Y1': 58.15,\n",
    "        'num': 0\n",
    "    }\n",
    "}"
   ]
  },
  {
   "cell_type": "code",
<<<<<<< HEAD:new_view.ipynb
   "execution_count": 220,
=======
<<<<<<< HEAD:new_view.ipynb
   "execution_count": 1359,
=======
   "execution_count": 32,
>>>>>>> ca52db1054efff4fbed53a1a10445c183b70181a:analise_de_dados/new_view.ipynb
>>>>>>> e6e65992e518ec04c76473ae2521fc5dca1debbb:analise_de_dados/new_view.ipynb
   "metadata": {},
   "outputs": [],
   "source": [
    "def analisa_frames(frames):\n",
    "    frames_analisados = []\n",
    "    for i in range(len(frames)):\n",
    "        if i+1 == len(frames):\n",
    "            break\n",
    "        if frames[i+1] - frames[i] < 10:\n",
    "            frames_analisados.append(frames[i])\n",
    "    return frames_analisados"
   ]
  },
  {
   "cell_type": "code",
<<<<<<< HEAD:new_view.ipynb
   "execution_count": 221,
=======
<<<<<<< HEAD:new_view.ipynb
   "execution_count": 1360,
=======
   "execution_count": 33,
>>>>>>> ca52db1054efff4fbed53a1a10445c183b70181a:analise_de_dados/new_view.ipynb
>>>>>>> e6e65992e518ec04c76473ae2521fc5dca1debbb:analise_de_dados/new_view.ipynb
   "metadata": {},
   "outputs": [
    {
     "name": "stdout",
     "output_type": "stream",
     "text": [
      "Cruzamentos: 18\n",
      "Frames: [8189, 14138, 15308, 19367, 19484, 20363, 22567, 27621, 29742, 39832, 40645, 48331, 49319, 50587, 52091, 52427, 62235, 67044]\n"
     ]
    }
   ],
   "source": [
    "contador = 0\n",
    "\n",
    "frames = []\n",
    "\n",
    "for index, row in df_pal_ataque_direita.iterrows():\n",
    "    if index+1 == len(df_pal_ataque_direita):\n",
    "        break\n",
    "    if df_pal_ataque_direita.iloc[index]['DENTRO_AREA_DIREITA'] == 0 and df_pal_ataque_direita.iloc[index+1]['DENTRO_AREA_DIREITA'] == 1:\n",
    "        sequencia_de_1 = 0\n",
    "        for i in range(1, 21):\n",
    "            if index+i == len(df_pal_ataque_direita): # talvez colocar um -1 aqui para ele ver o último frame ???\n",
    "                break\n",
    "            if df_pal_ataque_direita.iloc[index+i]['DENTRO_AREA_DIREITA'] == 1:\n",
    "                sequencia_de_1 += 1\n",
    "            if sequencia_de_1 >= 20: # bola deve estar na área por pelo menos 0.8 segundo\n",
    "                for area in areas_direita:\n",
    "                    if df_pal_ataque_direita.iloc[index-50]['X'] > areas_direita[area]['X0'] and df_pal_ataque_direita.iloc[index-50]['X'] < areas_direita[area]['X1'] and df_pal_ataque_direita.iloc[index-50]['Y'] > areas_direita[area]['Y0'] and df_pal_ataque_direita.iloc[index-50]['Y'] < areas_direita[area]['Y1']:\n",
    "                        # areas_direita[area]['num'] += 1\n",
    "                        contador += 1\n",
    "                        frames.append(df_pal_ataque_direita.iloc[index+1]['FRAME']) # frame quando a bola entra na área\n",
    "                        break\n",
    "                break\n",
    "\n",
    "print(f'Cruzamentos: {contador}')\n",
    "print(f'Frames: {frames}')"
   ]
  },
  {
   "cell_type": "code",
<<<<<<< HEAD:new_view.ipynb
   "execution_count": 222,
=======
<<<<<<< HEAD:new_view.ipynb
   "execution_count": 1361,
   "metadata": {},
   "outputs": [
    {
     "name": "stdout",
     "output_type": "stream",
     "text": [
      "1\n",
      "1\n",
      "1\n",
      "1\n",
      "1\n",
      "1\n",
      "1\n",
      "1\n",
      "1\n",
      "1\n",
      "1\n",
      "2\n",
      "2\n",
      "1\n",
      "1\n",
      "1\n",
      "1\n",
      "1\n",
      "1\n"
     ]
    }
   ],
   "source": [
    "df_palmeiras = df[(df['TIME_JOGADOR'] != 'RED')]\n",
    "df_bragantino = df[(df['TIME_JOGADOR'] != 'PAL')]\n",
    "df_palmeiras_t1 = df_palmeiras[df_palmeiras['TEMPO_JOGO'] == 1]\n",
    "jogadores_cruzamentos = {} # Dicionário com os jogadores que cruzaram a bola / frames que cruzaram a bola\n",
    "velocidades_maximas = {} # Dicionário com as velocidades máximas da bola em cada frame que ocorre um cruzamento\n",
    "\n",
    "frames_novos = [8183,14134,15268,19341,19484,20358,22566,27600,29742,39832,40628,48329,49309,49415,50545,52088,52423,62186,67040]\n",
    "\n",
    "for frame in frames_novos:\n",
    "    x_bola = 0\n",
    "    y_bola = 0\n",
    "    velocidade_bola = 0\n",
    "    distancia_entre_jogador_e_bola_antes = 100 # Valor inicial alto para que qualquer distância seja menor que ele\n",
    "    distancia_entre_jogador_e_bola_depois = 100 # Valor inicial alto para que qualquer distância seja menor que ele\n",
    "    \n",
    "    # DataFrame com os dados da bola no intervalo do cruzamento (frame e 2 segundos antes)\n",
    "    df_frame_bola = df_palmeiras_t1[(df_palmeiras_t1['FRAME'] <= frame) & (df_palmeiras_t1['FRAME'] >= frame-50) & (df_palmeiras_t1['OBJETO_OBSERVADO'] == 'bola')]\n",
    "\n",
    "    for index, row in df_frame_bola.iterrows():\n",
    "        if row['VELOCIDADE'] > velocidade_bola:\n",
    "            velocidade_bola = row['VELOCIDADE']\n",
    "            frame_que_cruzou = row['FRAME']\n",
    "            # Coordenadas da bola no momento do cruzamento\n",
    "            x_bola = row['X']\n",
    "            y_bola = row['Y']\n",
    "\n",
    "    # Velocidades máximas atingidas pela bola em cada cruzamento (momento em que o jogador toca na bola)\n",
    "    velocidades_maximas[frame_que_cruzou] = velocidade_bola\n",
    "\n",
    "    # Mesmo DataFrame, mas com os dados dos jogadores\n",
    "    df_frame_jogadores = df_palmeiras_t1[(df_palmeiras_t1['FRAME'] <= frame) & (df_palmeiras_t1['FRAME'] >= frame-50) & (df_palmeiras_t1['OBJETO_OBSERVADO'] == 'jogador')]\n",
    "\n",
    "    for index, row in df_frame_jogadores.iterrows():\n",
    "        jog = [row['X'], row['Y']]\n",
    "        bola = [x_bola, y_bola]\n",
    "        distancia_medida = math.dist(jog, bola) # Distância entre o jogador e a bola: distância de dois pontos\n",
    "        if distancia_medida < distancia_entre_jogador_e_bola_antes:\n",
    "            distancia_entre_jogador_e_bola_antes = distancia_medida\n",
    "            jogador = row['NOME_JOGADOR'] # Nome do jogador que cruzou\n",
    "        \n",
    "    df_frame_bola_depois = df_palmeiras_t1[(df_palmeiras_t1['FRAME'] == frame+10) & (df_palmeiras_t1['OBJETO_OBSERVADO'] == 'bola')]\n",
    "    df_frame_jogadores_depois = df_palmeiras_t1[(df_palmeiras_t1['FRAME'] == frame+10) & (df_palmeiras_t1['OBJETO_OBSERVADO'] == 'jogador')]\n",
    "    df_jogador = df_frame_jogadores_depois[df_frame_jogadores_depois['NOME_JOGADOR']== jogador]\n",
    "    x = df_jogador['X'].iloc[0]\n",
    "    y = df_jogador['Y'].iloc[0]\n",
    "    posicao_jogador_depois = [x,y]\n",
    "    x_bola_depois = df_frame_bola_depois['X'].iloc[0]\n",
    "    y_bola_depois = df_frame_bola_depois['Y'].iloc[0]\n",
    "    posicao_bola_depois = [x_bola_depois,y_bola_depois]\n",
    "    distancia_medida_depois = math.dist(posicao_jogador_depois, posicao_bola_depois)\n",
    "    if distancia_medida_depois <= (distancia_medida + 0.5):\n",
    "        print('1')\n",
    "    else:\n",
    "        print('2')\n",
    "\n"
   ]
  },
  {
   "cell_type": "code",
   "execution_count": 1362,
=======
   "execution_count": 34,
>>>>>>> ca52db1054efff4fbed53a1a10445c183b70181a:analise_de_dados/new_view.ipynb
>>>>>>> e6e65992e518ec04c76473ae2521fc5dca1debbb:analise_de_dados/new_view.ipynb
   "metadata": {},
   "outputs": [],
   "source": [
    "df_palmeiras = df[(df['TIME_JOGADOR'] != 'RED')]\n",
    "df_bragantino = df[(df['TIME_JOGADOR'] != 'PAL')]"
   ]
  },
  {
   "cell_type": "code",
<<<<<<< HEAD:new_view.ipynb
   "execution_count": 223,
=======
<<<<<<< HEAD:new_view.ipynb
   "execution_count": 1363,
=======
   "execution_count": 35,
>>>>>>> ca52db1054efff4fbed53a1a10445c183b70181a:analise_de_dados/new_view.ipynb
>>>>>>> e6e65992e518ec04c76473ae2521fc5dca1debbb:analise_de_dados/new_view.ipynb
   "metadata": {},
   "outputs": [],
   "source": [
    "df_palmeiras_t1 = df_palmeiras[df_palmeiras['TEMPO_JOGO'] == 1]"
   ]
  },
  {
   "cell_type": "code",
<<<<<<< HEAD:new_view.ipynb
   "execution_count": 224,
=======
<<<<<<< HEAD:new_view.ipynb
   "execution_count": 1364,
=======
   "execution_count": 36,
>>>>>>> ca52db1054efff4fbed53a1a10445c183b70181a:analise_de_dados/new_view.ipynb
>>>>>>> e6e65992e518ec04c76473ae2521fc5dca1debbb:analise_de_dados/new_view.ipynb
   "metadata": {},
   "outputs": [],
   "source": [
    "# Dicionários\n",
    "jogadores_cruzamentos = {} # Dicionário com os jogadores que cruzaram a bola / frames que cruzaram a bola\n",
    "velocidades_maximas = {} # Dicionário com as velocidades máximas da bola em cada frame que ocorre um cruzamento"
   ]
  },
  {
   "cell_type": "code",
<<<<<<< HEAD:new_view.ipynb
   "execution_count": 225,
=======
<<<<<<< HEAD:new_view.ipynb
   "execution_count": 1365,
=======
   "execution_count": 37,
>>>>>>> ca52db1054efff4fbed53a1a10445c183b70181a:analise_de_dados/new_view.ipynb
>>>>>>> e6e65992e518ec04c76473ae2521fc5dca1debbb:analise_de_dados/new_view.ipynb
   "metadata": {},
   "outputs": [
    {
     "name": "stdout",
     "output_type": "stream",
     "text": [
      "{8183: 39.32, 14134: 39.65, 15268: 31.78, 19341: 36.36, 19484: 28.95, 20358: 41.94, 22566: 41.65, 27600: 41.92, 29742: 36.12, 39832: 35.1, 40628: 41.9, 48329: 41.93, 49309: 41.75, 50545: 33.4, 52088: 41.98, 52423: 39.99, 62186: 41.95, 67040: 41.97}\n",
      "{'Raphael Veiga': [8183, 19484, 20358, 22566, 49309], 'Rony': [15268], 'Artur': [19341, 27600, 52423], 'Vanderlan': [29742, 62186, 67040], 'Dudu': [39832, 48329, 52088]}\n",
      "15\n",
      "[8183, 15268, 19341, 19484, 20358, 22566, 27600, 29742, 39832, 48329, 49309, 52088, 52423, 62186, 67040]\n"
     ]
    }
   ],
   "source": [
    "# Análise de quem realizou cada cruzamento contado em 'frames'\n",
    "\n",
    "cruzamentos = 0\n",
    "frames_finais = []\n",
    "\n",
    "for frame in frames: \n",
    "    x_bola = 0\n",
    "    y_bola = 0\n",
    "    velocidade_bola = 0\n",
    "    distancia_entre_jogador_e_bola = 100 # Valor inicial alto para que qualquer distância seja menor que ele\n",
    "    \n",
    "    # DataFrame com os dados da bola no intervalo do cruzamento (frame e 2 segundos antes)\n",
    "    df_frame_bola = df_palmeiras_t1[(df_palmeiras_t1['FRAME'] <= frame) & (df_palmeiras_t1['FRAME'] >= frame-50) & (df_palmeiras_t1['OBJETO_OBSERVADO'] == 'bola')]\n",
    "\n",
    "    for index, row in df_frame_bola.iterrows():\n",
    "        if row['VELOCIDADE'] > velocidade_bola:\n",
    "            velocidade_bola = row['VELOCIDADE']\n",
    "            frame_que_cruzou = row['FRAME']\n",
    "            # Coordenadas da bola no momento do cruzamento\n",
    "            x_bola = row['X']\n",
    "            y_bola = row['Y']\n",
    "\n",
    "    # Velocidades máximas atingidas pela bola em cada cruzamento (momento em que o jogador toca na bola)\n",
    "    velocidades_maximas[frame_que_cruzou] = velocidade_bola\n",
    "\n",
    "    # Mesmo DataFrame, mas com os dados dos jogadores\n",
    "    df_frame_jogadores = df_palmeiras_t1[(df_palmeiras_t1['FRAME'] <= frame) & (df_palmeiras_t1['FRAME'] >= frame-50) & (df_palmeiras_t1['OBJETO_OBSERVADO'] == 'jogador')]\n",
    "\n",
    "    for index, row in df_frame_jogadores.iterrows():\n",
    "        jog = [row['X'], row['Y']]\n",
    "        bola = [x_bola, y_bola]\n",
    "        distancia_medida = math.dist(jog, bola) # Distância entre o jogador e a bola: distância de dois pontos\n",
    "        if distancia_medida < distancia_entre_jogador_e_bola:\n",
    "            distancia_entre_jogador_e_bola = distancia_medida\n",
    "            jogador = row['NOME_JOGADOR'] # Nome do jogador que cruzou\n",
    "    \n",
    "    for area in areas_direita:\n",
    "        if x_bola > areas_direita[area]['X0'] and x_bola < areas_direita[area]['X1'] and y_bola > areas_direita[area]['Y0'] and y_bola < areas_direita[area]['Y1']:\n",
    "            areas_direita[area]['num'] += 1\n",
    "            cruzamentos += 1\n",
    "            frames_finais.append(frame_que_cruzou)\n",
    "            if jogador in jogadores_cruzamentos:\n",
    "                jogadores_cruzamentos[jogador].append(frame_que_cruzou)\n",
    "            else:\n",
    "                jogadores_cruzamentos[jogador] = [frame_que_cruzou]\n",
    "            break\n",
    "\n",
    "print(velocidades_maximas)\n",
    "print(jogadores_cruzamentos)\n",
<<<<<<< HEAD:new_view.ipynb
    "print(cruzamentos)\n",
    "# printar os frames de cada cruzamento\n",
    "print(frames_finais)"
=======
    "\n",
    "\n"
>>>>>>> e6e65992e518ec04c76473ae2521fc5dca1debbb:analise_de_dados/new_view.ipynb
   ]
  },
  {
<<<<<<< HEAD:new_view.ipynb
   "cell_type": "markdown",
   "metadata": {},
   "source": []
  },
  {
   "cell_type": "code",
   "execution_count": 1366,
=======
   "cell_type": "code",
<<<<<<< HEAD:new_view.ipynb
   "execution_count": 226,
   "metadata": {},
   "outputs": [],
   "source": [
    "# Verifica se 5 frames antes de cada frame em frames finais "
   ]
  },
  {
   "cell_type": "code",
   "execution_count": 227,
   "metadata": {},
   "outputs": [
    {
     "name": "stdout",
     "output_type": "stream",
     "text": [
      "Área E1.2: 0.0%\n",
      "Área E1.1: 5.555555555555555%\n",
      "Área E2.1: 0.0%\n",
      "Área E2.2: 5.555555555555555%\n",
      "Área E3: 16.666666666666664%\n",
      "Área D1.1: 0.0%\n",
      "Área D1.2: 11.11111111111111%\n",
      "Área D2.1: 16.666666666666664%\n",
      "Área D2.2: 16.666666666666664%\n",
      "Área D3: 11.11111111111111%\n",
      "Número de cruzamentos: 18\n"
     ]
    }
   ],
   "source": [
    "print(f'Área E1.2: {areas_direita[\"E1.2\"][\"num\"] / contador * 100}%')\n",
    "print(f'Área E1.1: {areas_direita[\"E1.1\"][\"num\"] / contador * 100}%')\n",
    "print(f'Área E2.1: {areas_direita[\"E2.1\"][\"num\"] / contador * 100}%')\n",
    "print(f'Área E2.2: {areas_direita[\"E2.2\"][\"num\"] / contador * 100}%')\n",
    "print(f'Área E3: {areas_direita[\"E3\"][\"num\"] / contador * 100}%')\n",
    "print(f'Área D1.1: {areas_direita[\"D1.1\"][\"num\"] / contador * 100}%')\n",
    "print(f'Área D1.2: {areas_direita[\"D1.2\"][\"num\"] / contador * 100}%')\n",
    "print(f'Área D2.1: {areas_direita[\"D2.1\"][\"num\"] / contador * 100}%')\n",
    "print(f'Área D2.2: {areas_direita[\"D2.2\"][\"num\"] / contador * 100}%')\n",
    "print(f'Área D3: {areas_direita[\"D3\"][\"num\"] / contador * 100}%')\n",
    "\n",
    "print(f'Número de cruzamentos: {contador}')\n"
   ]
  },
  {
   "cell_type": "code",
   "execution_count": 228,
   "metadata": {},
   "outputs": [
    {
     "name": "stdout",
     "output_type": "stream",
     "text": [
      "[8183, 19484, 20358, 22566, 49309]\n",
      "[15268]\n",
      "[19341, 27600, 52423]\n",
      "[29742, 62186, 67040]\n",
      "[39832, 48329, 52088]\n"
     ]
    }
   ],
   "source": [
    "for coords in jogadores_cruzamentos.values():\n",
    "    print(coords)\n",
    "    # for coord in coords:\n",
    "    #     plt.scatter(coord, velocidades_maximas[coord], color='red')\n"
   ]
  },
  {
   "cell_type": "code",
   "execution_count": 229,
=======
   "execution_count": 42,
>>>>>>> ca52db1054efff4fbed53a1a10445c183b70181a:analise_de_dados/new_view.ipynb
>>>>>>> e6e65992e518ec04c76473ae2521fc5dca1debbb:analise_de_dados/new_view.ipynb
   "metadata": {},
   "outputs": [
    {
     "name": "stdout",
     "output_type": "stream",
     "text": [
      "['Cruzamento 1: 5 minutos e 27 segundos', 'Cruzamento 2: 9 minutos e 25 segundos', 'Cruzamento 3: 10 minutos e 12 segundos', 'Cruzamento 4: 12 minutos e 54 segundos', 'Cruzamento 5: 12 minutos e 59 segundos', 'Cruzamento 6: 13 minutos e 34 segundos', 'Cruzamento 7: 15 minutos e 2 segundos', 'Cruzamento 8: 18 minutos e 24 segundos', 'Cruzamento 9: 19 minutos e 49 segundos', 'Cruzamento 10: 26 minutos e 33 segundos', 'Cruzamento 11: 27 minutos e 5 segundos', 'Cruzamento 12: 32 minutos e 13 segundos', 'Cruzamento 13: 32 minutos e 52 segundos', 'Cruzamento 14: 32 minutos e 58 segundos', 'Cruzamento 15: 33 minutos e 43 segundos', 'Cruzamento 16: 34 minutos e 43 segundos', 'Cruzamento 17: 34 minutos e 57 segundos', 'Cruzamento 18: 41 minutos e 29 segundos', 'Cruzamento 19: 44 minutos e 41 segundos']\n"
     ]
    }
   ],
   "source": [
    "\n",
    "def frames_para_tempo(frames):\n",
    "    tempos = []\n",
    "    for frame in frames:\n",
    "        minutos = frame // (25 * 60)\n",
    "        segundos = (frame // 25) % 60\n",
    "        tempos.append((minutos, segundos))\n",
    "    return tempos\n",
    "\n",
    "frames = [8189, 14138, 15308, 19367, 19484, 20363, 22567, 27621, 29742, 39832, 40645, 48331, 49319, 49455, 50587, 52091, 52427, 62235, 67044]\n",
    "\n",
    "frames_tempo = []\n",
    "tempos = frames_para_tempo(frames)\n",
    "\n",
    "for i, tempo in enumerate(tempos, start=1):\n",
    "    frames_tempo.append(f\"Cruzamento {i}: {tempo[0]} minutos e {tempo[1]} segundos\")\n",
    "\n",
    "print(frames_tempo)\n",
    "\n",
    "cruzamentos = [\n",
    "'Cruzamento 1: 5 minutos e 27 segundos', #OK\n",
    "'Cruzamento 2: 9 minutos e 25 segundos', #ERRADO - TIREI\n",
    "'Cruzamento 3: 10 minutos e 12 segundos',#OK\n",
    "'Cruzamento 4: 12 minutos e 54 segundos',#OK\n",
    "'Cruzamento 5: 12 minutos e 59 segundos',#OK    \n",
    "'Cruzamento 6: 13 minutos e 34 segundos',#OK\n",
    "'Cruzamento 7: 15 minutos e 2 segundos', #OK\n",
    "'Cruzamento 8: 18 minutos e 24 segundos',#OK\n",
    "'Cruzamento 9: 19 minutos e 49 segundos',#OK\n",
    "'Cruzamento 10: 26 minutos e 33 segundos',#OK\n",
    "'Cruzamento 11: 27 minutos e 5 segundos',#ESCANTEIO - TIREI\n",
    "'Cruzamento 12: 32 minutos e 13 segundos',#OK\n",
    "'Cruzamento 13: 32 minutos e 52 segundos',#ESCANTEIO\n",
    "'Cruzamento 14: 32 minutos e 58 segundos',#OK - TIREI\n",
    "'Cruzamento 15: 33 minutos e 43 segundos',#ERRADO - TIREI\n",
    "'Cruzamento 16: 34 minutos e 43 segundos',#OK\n",
    "'Cruzamento 17: 34 minutos e 57 segundos',#OK\n",
    "'Cruzamento 18: 41 minutos e 29 segundos',#OK\n",
    "'Cruzamento 19: 44 minutos e 41 segundos']#OK"
   ]
  }
 ],
 "metadata": {
  "kernelspec": {
   "display_name": "Python 3",
   "language": "python",
   "name": "python3"
  },
  "language_info": {
   "codemirror_mode": {
    "name": "ipython",
    "version": 3
   },
   "file_extension": ".py",
   "mimetype": "text/x-python",
   "name": "python",
   "nbconvert_exporter": "python",
   "pygments_lexer": "ipython3",
   "version": "3.10.9"
  }
 },
 "nbformat": 4,
 "nbformat_minor": 2
}
